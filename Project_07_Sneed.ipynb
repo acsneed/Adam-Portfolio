{
 "cells": [
  {
   "cell_type": "markdown",
   "metadata": {
    "application/vnd.databricks.v1+cell": {
     "cellMetadata": {
      "byteLimit": 2048000,
      "rowLimit": 10000
     },
     "inputWidgets": {},
     "nuid": "eaecee1f-ca3b-4bab-baf0-0795532ee55d",
     "showTitle": false,
     "title": ""
    }
   },
   "source": [
    "#DSCI 417 – Project 03\n",
    "##Forest Cover Prediction\n",
    "**Adam Sneed**"
   ]
  },
  {
   "cell_type": "markdown",
   "metadata": {
    "application/vnd.databricks.v1+cell": {
     "cellMetadata": {
      "byteLimit": 2048000,
      "rowLimit": 10000
     },
     "inputWidgets": {},
     "nuid": "a56b4a31-4d29-427f-9d43-42b23cccb9ae",
     "showTitle": false,
     "title": ""
    }
   },
   "source": [
    "In this project, we will be working with the Forest Cover dataset. Our goal will be to create a model to generate predictions about the type of forest cover in a particular\n",
    "wilderness region based on cartographic information."
   ]
  },
  {
   "cell_type": "markdown",
   "metadata": {
    "application/vnd.databricks.v1+cell": {
     "cellMetadata": {
      "byteLimit": 2048000,
      "rowLimit": 10000
     },
     "inputWidgets": {},
     "nuid": "9c515c83-66d7-455a-96a4-ee65a9a73d4d",
     "showTitle": false,
     "title": ""
    }
   },
   "source": [
    "##Part A: Set up Environment\n",
    "In this part of the project, we will import the required tool from pyspark, and will also create a SparkSession object."
   ]
  },
  {
   "cell_type": "code",
   "execution_count": 0,
   "metadata": {
    "application/vnd.databricks.v1+cell": {
     "cellMetadata": {
      "byteLimit": 2048000,
      "rowLimit": 10000
     },
     "inputWidgets": {},
     "nuid": "a6784761-243a-4738-9354-73b32f37f268",
     "showTitle": false,
     "title": ""
    }
   },
   "outputs": [
    {
     "output_type": "display_data",
     "data": {
      "application/vnd.databricks.v1+bamboolib_hint": "{\"pd.DataFrames\": [], \"version\": \"0.0.1\"}",
      "text/plain": []
     },
     "metadata": {},
     "output_type": "display_data"
    }
   ],
   "source": [
    "import pandas as pd\n",
    "import numpy as np\n",
    "import matplotlib.pyplot as plt\n",
    "\n",
    "from pyspark.sql import SparkSession\n",
    "from pyspark.sql.functions import col, expr\n",
    "from pyspark.sql.types import IntegerType\n",
    "\n",
    "from pyspark.ml.feature import StringIndexer, VectorAssembler, OneHotEncoder\n",
    "from pyspark.ml.evaluation import MulticlassClassificationEvaluator\n",
    "from pyspark.ml.classification import LogisticRegression, DecisionTreeClassifier\n",
    "from pyspark.mllib.evaluation import MulticlassMetrics\n",
    "from pyspark.ml import Pipeline\n",
    "from pyspark.ml.tuning import CrossValidator, ParamGridBuilder\n",
    "\n",
    "spark = SparkSession.builder.getOrCreate()\n",
    "sc = spark.sparkContext"
   ]
  },
  {
   "cell_type": "markdown",
   "metadata": {
    "application/vnd.databricks.v1+cell": {
     "cellMetadata": {
      "byteLimit": 2048000,
      "rowLimit": 10000
     },
     "inputWidgets": {},
     "nuid": "5a831aab-effb-4fa2-bcfa-ac1da48ee6fa",
     "showTitle": false,
     "title": ""
    }
   },
   "source": [
    "##Part B: Load and Explore the Data\n",
    "In this part, we will be loading in the dataset and exploring differenct characteristics of it. We will begin by loading the dataset into a DataFrame."
   ]
  },
  {
   "cell_type": "code",
   "execution_count": 0,
   "metadata": {
    "application/vnd.databricks.v1+cell": {
     "cellMetadata": {
      "byteLimit": 2048000,
      "rowLimit": 10000
     },
     "inputWidgets": {},
     "nuid": "6811ab1d-b282-4698-a1c3-4eb574f4a570",
     "showTitle": false,
     "title": ""
    }
   },
   "outputs": [
    {
     "output_type": "stream",
     "name": "stdout",
     "output_type": "stream",
     "text": [
      "root\n |-- Elevation: integer (nullable = true)\n |-- Aspect: integer (nullable = true)\n |-- Slope: integer (nullable = true)\n |-- Horizontal_Distance_To_Hydrology: integer (nullable = true)\n |-- Vertical_Distance_To_Hydrology: integer (nullable = true)\n |-- Horizontal_Distance_To_Roadways: integer (nullable = true)\n |-- Hillshade_9am: integer (nullable = true)\n |-- Hillshade_Noon: integer (nullable = true)\n |-- Hillshade_3pm: integer (nullable = true)\n |-- Horizontal_Distance_To_Fire_Points: integer (nullable = true)\n |-- Wilderness_Area: string (nullable = true)\n |-- Soil_Type: integer (nullable = true)\n |-- Cover_Type: integer (nullable = true)\n\n"
     ]
    }
   ],
   "source": [
    "forest_schema =  (\n",
    "    'Elevation INT, Aspect INT, Slope INT, Horizontal_Distance_To_Hydrology INT, '\n",
    "    'Vertical_Distance_To_Hydrology INT, Horizontal_Distance_To_Roadways INT, Hillshade_9am INT, '\n",
    "    'Hillshade_Noon INT, Hillshade_3pm INT, Horizontal_Distance_To_Fire_Points INT, '\n",
    "    'Wilderness_Area STRING, Soil_Type INT, Cover_Type INT'\n",
    ")\n",
    "\n",
    "fc = (\n",
    "    spark\n",
    "    .read\n",
    "    .option('delimiter', '\\t')\n",
    "    .option('header', True)\n",
    "    .schema(forest_schema)\n",
    "    .csv('/FileStore/tables/forest_cover.txt')\n",
    ")\n",
    "\n",
    "fc.printSchema()"
   ]
  },
  {
   "cell_type": "code",
   "execution_count": 0,
   "metadata": {
    "application/vnd.databricks.v1+cell": {
     "cellMetadata": {
      "byteLimit": 2048000,
      "rowLimit": 10000
     },
     "inputWidgets": {},
     "nuid": "d08e775f-128f-48d0-b77e-4fa97a65260f",
     "showTitle": false,
     "title": ""
    }
   },
   "outputs": [
    {
     "output_type": "stream",
     "name": "stdout",
     "output_type": "stream",
     "text": [
      "+---------+------+-----+--------------------------------+------------------------------+-------------------------------+\n|Elevation|Aspect|Slope|Horizontal_Distance_To_Hydrology|Vertical_Distance_To_Hydrology|Horizontal_Distance_To_Roadways|\n+---------+------+-----+--------------------------------+------------------------------+-------------------------------+\n|     2596|    51|    3|                             258|                             0|                            510|\n|     2590|    56|    2|                             212|                            -6|                            390|\n|     2804|   139|    9|                             268|                            65|                           3180|\n+---------+------+-----+--------------------------------+------------------------------+-------------------------------+\nonly showing top 3 rows\n\n+-------------+--------------+-------------+----------------------------------+---------------+---------+----------+\n|Hillshade_9am|Hillshade_Noon|Hillshade_3pm|Horizontal_Distance_To_Fire_Points|Wilderness_Area|Soil_Type|Cover_Type|\n+-------------+--------------+-------------+----------------------------------+---------------+---------+----------+\n|          221|           232|          148|                              6279|          Rawah|       29|         5|\n|          220|           235|          151|                              6225|          Rawah|       29|         5|\n|          234|           238|          135|                              6121|          Rawah|       12|         2|\n+-------------+--------------+-------------+----------------------------------+---------------+---------+----------+\nonly showing top 3 rows\n\n"
     ]
    }
   ],
   "source": [
    "column_names = fc.columns\n",
    "\n",
    "first_six_columns = fc.select(column_names[:6])\n",
    "\n",
    "first_six_columns.show(3)\n",
    "\n",
    "remaining_columns = fc.select(column_names[6:])\n",
    "\n",
    "remaining_columns.show(3)"
   ]
  },
  {
   "cell_type": "code",
   "execution_count": 0,
   "metadata": {
    "application/vnd.databricks.v1+cell": {
     "cellMetadata": {
      "byteLimit": 2048000,
      "rowLimit": 10000
     },
     "inputWidgets": {},
     "nuid": "e711b3c5-af69-463c-bfe8-defec7210f8f",
     "showTitle": false,
     "title": ""
    }
   },
   "outputs": [
    {
     "output_type": "stream",
     "name": "stdout",
     "output_type": "stream",
     "text": [
      "Number of records in the fc DataFrame: 15120\n"
     ]
    }
   ],
   "source": [
    "N = fc.count()\n",
    "\n",
    "print(\"Number of records in the fc DataFrame:\", N)"
   ]
  },
  {
   "cell_type": "code",
   "execution_count": 0,
   "metadata": {
    "application/vnd.databricks.v1+cell": {
     "cellMetadata": {
      "byteLimit": 2048000,
      "rowLimit": 10000
     },
     "inputWidgets": {},
     "nuid": "bb9c92bd-2580-4065-839e-92d08d1365d3",
     "showTitle": false,
     "title": ""
    }
   },
   "outputs": [
    {
     "output_type": "stream",
     "name": "stdout",
     "output_type": "stream",
     "text": [
      "+----------+------+\n|Cover_Type|  prop|\n+----------+------+\n|         1|0.1429|\n|         6|0.1429|\n|         3|0.1429|\n|         5|0.1429|\n|         4|0.1429|\n|         7|0.1429|\n|         2|0.1429|\n+----------+------+\n\n"
     ]
    }
   ],
   "source": [
    "from pyspark.sql.functions import round\n",
    "\n",
    "grouped_df = fc.groupBy(\"Cover_Type\").count()\n",
    "\n",
    "total_count = grouped_df.selectExpr(\"sum(count)\").collect()[0][0]\n",
    "\n",
    "proportion_df = grouped_df.withColumn(\"prop\", round(grouped_df[\"count\"] / total_count, 4))\n",
    "\n",
    "proportion_df = proportion_df.select(\"Cover_Type\", \"prop\")\n",
    "\n",
    "proportion_df.show()"
   ]
  },
  {
   "cell_type": "markdown",
   "metadata": {
    "application/vnd.databricks.v1+cell": {
     "cellMetadata": {
      "byteLimit": 2048000,
      "rowLimit": 10000
     },
     "inputWidgets": {},
     "nuid": "16654a01-6f65-4558-8b6d-21ad68a8103c",
     "showTitle": false,
     "title": ""
    }
   },
   "source": [
    "##Part C: Preprocessing and Splitting the Data"
   ]
  },
  {
   "cell_type": "code",
   "execution_count": 0,
   "metadata": {
    "application/vnd.databricks.v1+cell": {
     "cellMetadata": {
      "byteLimit": 2048000,
      "rowLimit": 10000
     },
     "inputWidgets": {},
     "nuid": "47f3a937-e08e-4279-9489-cd104472e64f",
     "showTitle": false,
     "title": ""
    }
   },
   "outputs": [],
   "source": [
    "cat_features = ['Wilderness_Area', 'Soil_Type']\n",
    "num_features = ['Elevation', 'Aspect', 'Slope', 'Horizontal_Distance_To_Hydrology', 'Vertical_Distance_To_Hydrology', 'Horizontal_Distance_To_Roadways', 'Hillshade_9am', 'Hillshade_Noon', 'Hillshade_3pm', 'Horizontal_Distance_To_Fire_Points']\n",
    "ix_features = [c + '_ix' for c in cat_features]\n",
    "vec_features = [c + '_vec' for c in cat_features]\n",
    "\n",
    "indexer = StringIndexer(inputCols=cat_features, outputCols=ix_features)\n",
    "\n",
    "encoder = OneHotEncoder(inputCols=ix_features, outputCols=vec_features, dropLast=False)\n",
    "\n",
    "assembler_lr = VectorAssembler(inputCols=num_features + vec_features, outputCol='features_lr')\n",
    "\n",
    "assembler_dt = VectorAssembler(inputCols=num_features + ix_features, outputCol='features_dt')"
   ]
  },
  {
   "cell_type": "code",
   "execution_count": 0,
   "metadata": {
    "application/vnd.databricks.v1+cell": {
     "cellMetadata": {
      "byteLimit": 2048000,
      "rowLimit": 10000
     },
     "inputWidgets": {},
     "nuid": "7681def7-e99e-4900-8e7d-a72005ed3d6d",
     "showTitle": false,
     "title": ""
    }
   },
   "outputs": [
    {
     "output_type": "stream",
     "name": "stdout",
     "output_type": "stream",
     "text": [
      "+-----------------------------------------------------------------------+----------+\n|features_dt                                                            |Cover_Type|\n+-----------------------------------------------------------------------+----------+\n|[2596.0,51.0,3.0,258.0,0.0,510.0,221.0,232.0,148.0,6279.0,2.0,1.0]     |5         |\n|[2590.0,56.0,2.0,212.0,-6.0,390.0,220.0,235.0,151.0,6225.0,2.0,1.0]    |5         |\n|[2804.0,139.0,9.0,268.0,65.0,3180.0,234.0,238.0,135.0,6121.0,2.0,20.0] |2         |\n|[2785.0,155.0,18.0,242.0,118.0,3090.0,238.0,238.0,122.0,6211.0,2.0,6.0]|2         |\n|[2595.0,45.0,2.0,153.0,-1.0,391.0,220.0,234.0,150.0,6172.0,2.0,1.0]    |5         |\n|[2579.0,132.0,6.0,300.0,-15.0,67.0,230.0,237.0,140.0,6031.0,2.0,1.0]   |2         |\n|[2606.0,45.0,7.0,270.0,5.0,633.0,222.0,225.0,138.0,6256.0,2.0,1.0]     |5         |\n|[2605.0,49.0,4.0,234.0,7.0,573.0,222.0,230.0,144.0,6228.0,2.0,1.0]     |5         |\n|[2617.0,45.0,9.0,240.0,56.0,666.0,223.0,221.0,133.0,6244.0,2.0,1.0]    |5         |\n|[2612.0,59.0,10.0,247.0,11.0,636.0,228.0,219.0,124.0,6230.0,2.0,1.0]   |5         |\n+-----------------------------------------------------------------------+----------+\nonly showing top 10 rows\n\n"
     ]
    }
   ],
   "source": [
    "pipeline = Pipeline(stages=[indexer, encoder, assembler_lr, assembler_dt]).fit(fc)\n",
    "fc_proc = pipeline.transform(fc)\n",
    "fc_proc.persist()\n",
    "\n",
    "fc_proc.select(['features_dt', 'Cover_Type']).show(10, truncate=False)"
   ]
  },
  {
   "cell_type": "code",
   "execution_count": 0,
   "metadata": {
    "application/vnd.databricks.v1+cell": {
     "cellMetadata": {
      "byteLimit": 2048000,
      "rowLimit": 10000
     },
     "inputWidgets": {},
     "nuid": "36fe3232-e10e-4bb1-9e97-6552e68004b9",
     "showTitle": false,
     "title": ""
    }
   },
   "outputs": [],
   "source": [
    "splits = fc_proc.randomSplit([0.8, 0.2], seed=1)\n",
    "train = splits[0]\n",
    "test = splits[1]"
   ]
  },
  {
   "cell_type": "code",
   "execution_count": 0,
   "metadata": {
    "application/vnd.databricks.v1+cell": {
     "cellMetadata": {
      "byteLimit": 2048000,
      "rowLimit": 10000
     },
     "inputWidgets": {},
     "nuid": "95f5c7d6-157c-492c-a7e6-4e2e2ca098bc",
     "showTitle": false,
     "title": ""
    }
   },
   "outputs": [
    {
     "output_type": "stream",
     "name": "stdout",
     "output_type": "stream",
     "text": [
      "Training Observations: 12118\nTesting Observations: 3002\n"
     ]
    }
   ],
   "source": [
    "train.persist()\n",
    "\n",
    "train_count = train.count()\n",
    "test_count = test.count()\n",
    "\n",
    "print(f\"Training Observations: {train_count}\")\n",
    "print(f\"Testing Observations: {test_count}\")"
   ]
  },
  {
   "cell_type": "markdown",
   "metadata": {
    "application/vnd.databricks.v1+cell": {
     "cellMetadata": {
      "byteLimit": 2048000,
      "rowLimit": 10000
     },
     "inputWidgets": {},
     "nuid": "f45ea4a1-52cb-4382-a9db-976cb07c59ba",
     "showTitle": false,
     "title": ""
    }
   },
   "source": [
    "##Part D: Hyperparameter for Logistic Regression"
   ]
  },
  {
   "cell_type": "code",
   "execution_count": 0,
   "metadata": {
    "application/vnd.databricks.v1+cell": {
     "cellMetadata": {
      "byteLimit": 2048000,
      "rowLimit": 10000
     },
     "inputWidgets": {},
     "nuid": "d3c486f2-4b48-481f-8d4a-50d5e4e96537",
     "showTitle": false,
     "title": ""
    }
   },
   "outputs": [],
   "source": [
    "accuracy_eval = MulticlassClassificationEvaluator(\n",
    "    predictionCol='prediction', labelCol='Cover_Type', metricName='accuracy')"
   ]
  },
  {
   "cell_type": "code",
   "execution_count": 0,
   "metadata": {
    "application/vnd.databricks.v1+cell": {
     "cellMetadata": {
      "byteLimit": 2048000,
      "rowLimit": 10000
     },
     "inputWidgets": {},
     "nuid": "7ba79d20-4e8b-4c64-b3d6-282257c8eaa7",
     "showTitle": false,
     "title": ""
    }
   },
   "outputs": [],
   "source": [
    "logreg = LogisticRegression(featuresCol='features_lr', labelCol='Cover_Type')\n",
    "\n",
    "param_grid = (ParamGridBuilder()\n",
    "    .addGrid(logreg.regParam, [0.0001, 0.001, 0.01, 0.1, 1])\n",
    "    .addGrid(logreg.elasticNetParam, [0, 0.5, 1])\n",
    "    .build()\n",
    ")\n",
    "   \n",
    "cv = CrossValidator(estimator=logreg, estimatorParamMaps=param_grid, evaluator=accuracy_eval, \n",
    "                    numFolds=5, seed=1)\n",
    "\n",
    "cv_model = cv.fit(train)"
   ]
  },
  {
   "cell_type": "code",
   "execution_count": 0,
   "metadata": {
    "application/vnd.databricks.v1+cell": {
     "cellMetadata": {
      "byteLimit": 2048000,
      "rowLimit": 10000
     },
     "inputWidgets": {},
     "nuid": "6e7a4ee1-f4f9-434b-9a63-6d0ae8875848",
     "showTitle": false,
     "title": ""
    }
   },
   "outputs": [
    {
     "output_type": "stream",
     "name": "stdout",
     "output_type": "stream",
     "text": [
      "Max CV Score: 0.7001\nOptimal Lambda: 0.0001\nOptimal Alpha: 0.0000\n"
     ]
    }
   ],
   "source": [
    "lr_model = cv_model.bestModel\n",
    "\n",
    "opt_regParam = lr_model.getRegParam()\n",
    "opt_enetParam = lr_model.getElasticNetParam()\n",
    "\n",
    "print('Max CV Score:', \"{:.4f}\".format(max(cv_model.avgMetrics)))\n",
    "print('Optimal Lambda:', \"{:.4f}\".format(opt_regParam))\n",
    "print('Optimal Alpha:', \"{:.4f}\".format(opt_enetParam))"
   ]
  },
  {
   "cell_type": "code",
   "execution_count": 0,
   "metadata": {
    "application/vnd.databricks.v1+cell": {
     "cellMetadata": {
      "byteLimit": 2048000,
      "rowLimit": 10000
     },
     "inputWidgets": {},
     "nuid": "608d48b2-7c28-4b16-b072-2b24ad58bab9",
     "showTitle": false,
     "title": ""
    }
   },
   "outputs": [
    {
     "output_type": "display_data",
     "data": {
      "image/png": "[encoded data removed]"
     },
     "metadata": {
      "application/vnd.databricks.v1+output": {
       "addedWidgets": {},
       "arguments": {},
       "data": "data:image/png;base64,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\n",
       "datasetInfos": [],
       "metadata": {},
       "removedWidgets": [],
       "type": "image"
      }
     },
     "output_type": "display_data"
    }
   ],
   "source": [
    "model_params = cv_model.getEstimatorParamMaps()\n",
    "\n",
    "lr_cv_summary_list = []\n",
    "for param_set, acc in zip(model_params, cv_model.avgMetrics):\n",
    "    new_set = list(param_set.values()) + [acc]\n",
    "    lr_cv_summary_list.append(new_set)\n",
    "\n",
    "cv_summary = pd.DataFrame(lr_cv_summary_list,\n",
    "                            columns=['reg_param', 'enet_param', 'acc'])\n",
    "\n",
    "for en in cv_summary.enet_param.unique():\n",
    "    sel = cv_summary.enet_param == en\n",
    "    plt.plot(cv_summary.reg_param[sel], cv_summary.acc[sel], label=en)\n",
    "    plt.scatter(cv_summary.reg_param[sel], cv_summary.acc[sel])\n",
    "    \n",
    "plt.legend()\n",
    "plt.xscale('log')\n",
    "plt.grid()\n",
    "plt.xlabel('Regularization Parameter')\n",
    "plt.ylabel('Cross-Validation Score')\n",
    "plt.show()"
   ]
  },
  {
   "cell_type": "markdown",
   "metadata": {
    "application/vnd.databricks.v1+cell": {
     "cellMetadata": {
      "byteLimit": 2048000,
      "rowLimit": 10000
     },
     "inputWidgets": {},
     "nuid": "8949cc72-c52f-4c0e-9f39-1cd02b4edc44",
     "showTitle": false,
     "title": ""
    }
   },
   "source": [
    "##Part E: Hyperparameter Tuning for Decision Trees"
   ]
  },
  {
   "cell_type": "code",
   "execution_count": 0,
   "metadata": {
    "application/vnd.databricks.v1+cell": {
     "cellMetadata": {
      "byteLimit": 2048000,
      "rowLimit": 10000
     },
     "inputWidgets": {},
     "nuid": "e49ea922-eefb-427a-a55c-a2fbc24c57da",
     "showTitle": false,
     "title": ""
    }
   },
   "outputs": [],
   "source": [
    "dtree = DecisionTreeClassifier(featuresCol='features_dt', labelCol='Cover_Type', seed=1, maxBins=38)\n",
    "\n",
    "param_grid2 = (ParamGridBuilder()\n",
    "             .addGrid(dtree.maxDepth, [2, 4, 6, 8, 10, 12, 14, 16, 18, 20, 22, 24] )\n",
    "             .addGrid(dtree.minInstancesPerNode, [1, 2, 4])\n",
    "             .build())\n",
    "\n",
    "cv = CrossValidator(estimator=dtree, estimatorParamMaps=param_grid2, numFolds=5, \n",
    "                    evaluator=accuracy_eval, seed=1)\n",
    "\n",
    "cv_model = cv.fit(train)"
   ]
  },
  {
   "cell_type": "code",
   "execution_count": 0,
   "metadata": {
    "application/vnd.databricks.v1+cell": {
     "cellMetadata": {
      "byteLimit": 2048000,
      "rowLimit": 10000
     },
     "inputWidgets": {},
     "nuid": "e577a8c8-dc0d-4927-aadf-e31e820cbc31",
     "showTitle": false,
     "title": ""
    }
   },
   "outputs": [
    {
     "output_type": "stream",
     "name": "stdout",
     "output_type": "stream",
     "text": [
      "Max CV Score: 0.7775\nOptimal Depth: 16.0000\nOptimal MinInst: 1.0000\n"
     ]
    }
   ],
   "source": [
    "dt_model = cv_model.bestModel\n",
    "\n",
    "opt_maxDepth = dt_model.getMaxDepth()\n",
    "opt_minInstancesPerNode = dt_model.getMinInstancesPerNode()\n",
    "\n",
    "print('Max CV Score:', \"{:.4f}\".format(max(cv_model.avgMetrics)))\n",
    "print('Optimal Depth:', \"{:.4f}\".format(opt_maxDepth))\n",
    "print('Optimal MinInst:', \"{:.4f}\".format(opt_minInstancesPerNode))"
   ]
  },
  {
   "cell_type": "code",
   "execution_count": 0,
   "metadata": {
    "application/vnd.databricks.v1+cell": {
     "cellMetadata": {
      "byteLimit": 2048000,
      "rowLimit": 10000
     },
     "inputWidgets": {},
     "nuid": "09e8f8a7-90d6-4486-9569-9bc1a773e60b",
     "showTitle": false,
     "title": ""
    }
   },
   "outputs": [
    {
     "output_type": "display_data",
     "data": {
      "image/png": "[encoded data removed]"
     },
     "metadata": {
      "application/vnd.databricks.v1+output": {
       "addedWidgets": {},
       "arguments": {},
       "data": "data:image/png;base64,iVBORw0KGgoAAAANSUhEUgAAAYgAAAEGCAYAAAB/+QKOAAAAOXRFWHRTb2Z0d2FyZQBNYXRwbG90bGliIHZlcnNpb24zLjQuMywgaHR0cHM6Ly9tYXRwbG90bGliLm9yZy/MnkTPAAAACXBIWXMAAAsTAAALEwEAmpwYAAA6WUlEQVR4nO3dd5wU9f348dd7d68f5ehduqCoIIgFC9jAGEvUWGIsMcb88g1RMZpIopFoVGKNJsbYNTbsiooSC6jRKEUp0uEAuaNzcHBc29t9//6YuWPv3Ltb4Gbnyvv5eOxjZz5T3u85lnnv7Mx8RlQVY4wxpqaA3wkYY4xpnKxAGGOMicsKhDHGmLisQBhjjInLCoQxxpi4Qn4n0FA6dOigvXv39juNhOzevZusrCyL18RiNfd4zXnbkh2vKW3b3Llzt6pqx7gTVbVZvIYPH65NxYwZMyxeE4zV3OM1521LdrymtG3AHK1lv2o/MRljjInLCoQxxpi4rEAYY4yJq9mcpI4nHA6Tl5dHaWmp36lU06ZNG5YsWVI1np6eTo8ePUhJSfExK2OMqa5ZF4i8vDxatWpF7969ERG/06mya9cuWrVqBTgXCWzbto28vDz69Onjc2bGGLNHs/6JqbS0lPbt2zeq4lCTiNC+fftGd5RjWo43v8ln1OSPWZhfyKjJH/PmN/l+p2QaiWZdIIBGXRwqNYUcTfP05jf5THx9Ifk7SgDI31HCxNcXelokkl2QrADuu2b9E5Mxpna7SsPcMW0JJeEIAF9scr4vloQj3DJ1EeUVUdJSAqSFAqSFgqSG9gzHtqeFAqSlBEgNBggF6/7OWVmQSsIR6LmnIAGcPax7g2+jH/Hunr6MC3vu4o+TP+aGsQd6EidZ8axAJMEVV1zBO++8Q6dOnfj222/9Tse0ANGosrWojPwdJc5rewnrK4d3lJK/vZidpRXVlvnf5j0798KSML97bcFexw0GxC0c8QvJwvxCyiqiALz93Z6CdOPrC3jv2w2oggLOY2qUqLo387ptzrvzDBtViKq67Vo1nZjxBXmFlEeceFNWBavF+2jpZlKDAVJDAVKD4ryHAqQGgzHD329PcdvSasw7Y+lm7np/KaUVUcLdnWJ042sLKKuIcMZh3fb6b1mft+ev55a3FlWL19DFzwpEElx++eWMHz+eSy+91O9UTBNR3zfDsooIG3aU1lIAStiwo7Rqx1ipVXqI7m0z6N42gyN659CtbQaPfLKK7cVhACYMqeD+b51dQpfW6bz6q6Mpq4hSFo5SHolSFo444xVRyioilIWd4fKK+O1lFRHKq9rdaRV7ctpSuuen1dJwlDVbi6n8tVVEEEDEfSEE3Iaq9prz4TSKQFACiFDtbxAQxVnKibcwbwfhiFZtQ3kkSnlFlGgDPEPtwUXO37G0IsrvX1vI719buP8rrcMruXuK393Tl1mBaEqOP/541qxZ43capol485t8bnxtAaUVUVa2EfJ3lHD9K/N5+os1gPNNccuusmrLiECnVml0b5vBId3bMG5Il6pi0D0ng25tM2id/v3LqLu0Tq/6CSbg7pwzUoLceNogeuRkNvi2jZr8cdX5jisGRrh3obML6t42g+kTjvc03vl9o9y7MFAVb+YNY+IuE4kq5RVOsSiLOEUuHNnTVh5xCl3Ntgkvza9ax3FdIny2MVg1PvG0QQ2+bXe+t7RqeGj7KBvynHjr3e1tCC2mQPz57UUsXr+zQdd5ULfW3HLGwQ26TtMyhCNRNuwoZd32Yr4rKGZdwZ73hfmFVd9i31rr/KePRiMszC/k6L7tGXNgR7q3zXR3/On0aJtJlzbppIb2/pqTs4d1p/u6d+j59d0slfF8mf4P1h1+A0cMG9eQm1vlhrEH7jkn4MpICXLD2AMbTbxgQMhIDZKRGgQSvzfpnunLq4rRyI7KZxud9u5tM/jlCf32Kf+6/Pt/a6viHZSjvJfntHdrm9FgMVpMgTBmf+ztyUBVZXtxmO9idvxVRWB7Met3lBKJ+S0jFBC652TQq10mvXQD5wQ/o29gA5t7/4gzvruDTC3lDxVX8sCVd+7/xkSjECmDilJY8Aq7lt/GTZ3TOVkLeLyLcMmK22F+Gzjswv2PVUOyC1Iy4zWF4re3WkyBsG/6Zl/VdiVMeUWUww9oy7qCkmqFoPJ9d3mk2no6ZKfSs10mh/fK4azDMunVLpOe7TLp2S6Drm0yCLq/8Wyc9BOWZhTxn6xMTpAFPNUuwLjdcFv5M/DfzlDh7tyrXmXV38O1tFe+IuXV8joRGF20i8imB6gsCfrGL5H3fgfpbdxX25jhul7ufKnZEIhzRLPgZY5YeAtQwlKBLmyhy8JboHcOHHp+Q//TJTVecyx+LaZAGLOvJr+3tOpb2nvr9lx5U/Mqn/SUgLPTz8nkqL7tqwpAr3aZ9MjJICst5r9b+W4oWA0F38Di1VCQ64xvX01nttKlBEaXlAIvMBaIAKUSZuvHf6YkIJQEUykNpVESSqU0lEpJKIWSYAolwRAlgSAlqQFK00OUBFpTKkIJSrFAKUoJUUo0QqlGKCjfSYUIEffscEiVdFVaRaIMyOpK2yi0i0bJqdhBzs5NtNtSTE5pETllu2gXiZKpSty7eCQAaa2/X0BWzSBXw3zWuhUDCv/HY21ac2xxCYOnXQ+73N9kqt0XFDNc1R6vrZb2GXfwrVQws20bhhTN4+6ctpxUXMzh798IGTkQTIVQOoRSIZgGIfdVbTi1RpxaLHiZzSvv4I89Mjk7LZU7eqRwzco7YIF3xc/reFYgkuCiiy5i5syZbN26lR49ejBx4kR+/etf+52WqSEaVb4rKGbR+p0sWl/ovu9ka9GeE8Ibd0cYKqvYpq1ZR2f+dsHQqiLQITu1+k2PxQXOTn/LaljmFoCCXNi+Goo2VQ+e0Y5wuz4s7zaEx1OLWZKawtZgkEAgnRItS2AHFXFfMasMZJARcl7pwXTnPZRO+8q2UDpTV75Vte6RqSOZVT6LIhGKRGib3YFlpQVsLy2kPFAOaUBaAFq3BloDkBpIISelFe1CmbQNppMjKbSTIDkq5ESitKuoICdcRk55Ce0KthGqKKYTcNnOXbDzfY6pTDZcCB/cvJf/YokZAgwpL4QdbzC6qnUbPH9e4iupLCTB1BpFZE/75vzZZIVgwvZy+ha9TLeKQipU+W7atfRa+wUEgk7hlMp3+X5bIGba99qqL7dg5q3MTRNGlpbSa+dSNqSEmJSTDZ/dyulWIJqOF198sdr4rl27fMrEVApHoqzYVFRVCBav38mSDTvZVebcGxAKCP07ZXPCwI6s+/ZzxuvzDA2s4utBNzJ62S0Uayp3hX7F2f0Oh+1LYGWNAlCQC6WF1YO26gbt+sCAUyCnD1tbdWK+lDO/dAsLdixj0dZFlJZsgaw9Vw8NSRnIt+E998788cg/7tnph5ydfmYos2q46j2YntAd+rO/+4QNYSfP4anDmVU+C4CuqW15+YyXAed8SnFFMQWlBewo3cH2su0UlBawvXQ720vd4TJn+Du3vbiiuHqgIJAFZPZwdnCqdA52YnNkMwCpCoM6HlKVs8QcDVQNiYBWr5WV80mN8crhhZvmUO4u0C3QhU2RDYgbr2+7gUSjEVQjRDVKVCOoRt3hKOq+nGElStS97yJKFCWq5ShlRNmJqhLu2gEV914MtqLkVOUmWz+s8ZdvgGtp2+95gtza8MeQJpQGAjyQVsHp+792wAqEaaL25qRxcXkFSzY4RwOL8neyaEMhyzcWVV0jn5ESZHDXVpw9rDsHd2vNwd3aMKBzNukpQVClOPc8MkudHVm/zdMByJRybok8CPc9sCeQBKFtT2jXF4ac57y36wPt+hJu3Z3lReuYv2W++/qQ/NVOlw+hQIiD2h3EeQPP47BOh3H3rLvZXOLEOy7tuKoC0TWrKxcOatgTx9ccNZFJ/72ZUg1XtaVLCtccNXHPZomQlZJFVkoWPVv1TGi9ZZGyqgKyvXQ7BWVO4bhr9l2VKyVV0lF3510mkJGaDTg3uVVRqrXFTqu6YQ6tdgNdrOKY8yDlIpS546VAemYHAhJARAgQiDvs3H/htkuAADHDEqiaHpAALy2dUlW9Dk05lAXhBZWJ8tODLkno71Y5v3O3X8y7RqtPQ3l92SvOfSEKOZnDIfI1ABtDwVpWvPesQJgmp67uE44f2LHaz0OL1heyeutuKvcdOZkpHNytDT8b1ZuD3GLQp0MWwYpi2LYKts2GlSvhqxWwdQVsW0Vm+Z4jvm47ZlUNCwo/uMcpAjl9oG0vCDqXRW4t2bqnGKx+mcXbFlMacTpk7JTRicM6HcZFgy7isI6HMbj9YNKCaVXrjUQjTPpiUtX8AOnBdK45/JoG/1ue3tf5rvnA106h65rVlWsOv6aqfV+lBdPoktWFLlldqrU/u/hZNuzeAMAPM37Iw0UPV8V97NTH9itmPKe+empVvB9l/sjTeJ/mvl91NDYqbVRVgeia2pbfj/x9g8YC+GjtR1XxBmUcyYwip0B0SW3bYDGsQJgm5+7pyzgl8gkTUl7jzZ038LPAfKaFR/Lbl+cTifkW2a1NOgd1a8MZh3bj4G6tGdKtFV3ZgmxbCVu/gfwVMN8pAuzMqx6kTU9o3x+GXgQLXuYrSniwbRtGdbiGN3c8xDXbd3B6qD2M/AXhaJjlBcuZt/xlFmxZwPwt88kvin90cFiHw+iS1aXOn3+82mnXFe/0vqczc+ZM/m/0/3kSo9I1h1+TtOKX7HiJHI01tXhWIEyTM2LnB/w+9CLXhscza203hC70kY2EdBOXnnY8h3YQDk7dROvda2DbF7BtBaxYCQWrnMs8K6W1dopA71HQfgB06O+8t+8HKXtuNno3M51Jq9+gNCCMkgAbUkLc3KE977UdyK73Lturo4NEJXOnnUx+FL9kxWuO22YFwjQ5l4Y+5qfhP7JJc7iz08ecW/gUqRKhnBRSZ7WF3Vv2zCxByOkNHQZAvzHOe/sBTmHI7hT36iBVZVvJVjYUbWDD7g3cvuEjSt17FJ7b/RwA4YDwyc4VHJp66F4dHZjkF79kxmtu22YFwjQpX3+3navKr6G17OSl7GsZsnMXCJQBqYRh4Dhn519ZCHJ6O5cixghHwmzcvZENG2ezfvf6qkKwfvd6p71oA+XR8rjxOwY6siuy55zE86c/7+HWGuMvTwuEiIwDHsC5yO1xVZ1cY/r9QGWPWZlAJ1Vt606LAJVdIH6nqmd6matX1q1bx6WXXsqmTZsQEa666iquuOIKv9Nqkt5buIFrX5rHcaGlTE59iIxIhA97nM8tgS8oF5hULJx+1j/YWb7T3emvZ/2KOWzcvdEpBLs3sKFoA1tLtla/UgbomNGRrlldGdRuEGN6jqFrVle6ZXeja1ZXfv3Rr9lU7Ny3MDZjbLUTncY0Z54VCBEJAg8BpwB5wGwRmaqqiyvnUdUJMfP/BhgWs4oSVR3qVX7JEgqFuPfeezn88MPZtWsXw4cP55hjjuGII47wO7UmQ1V57LNc7nxvCX9s/ymXFz3KumCQyzp1oVsW7Cx3Ll28KTvAX144mqJwUbXlUwIpdM3qStfsrozqPopuWd3oktWFbtnd6JbVjc5ZnUkNpsYLDcCE4ROSemLVmMbCyyOIkcBKVc0FEJEpwFnA4lrmvwi4xcN8fNG1a1e6dnW+abZq1YrBgwezfv16n7NqOioiUSa9vYhXv1zBlI4vcOSuD5iRmcHvOranNBDgu/Iv98xLlDP7nVlVDLpldaNrdlfapbcjIPv+dN1kn3w0prGQeDeXNMiKRc4Dxqnqle74JcCRqjo+zrwHAF8CPVQ14rZVAPOACmCyqr4ZZ7mrgKsAOnfuPHzKlCnVprdp04b+/fsDkDbjFgKbFzXU5gEQ7XQwZWP+nPD8a9eu5bTTTuPzzz8nJyen2rSVK1dSWFhYy5L7p6ioiOzsbE/W7WW8kgrl4fllFGzdyItZ99OjYi3f9j6fP6dsY1nFcjoGOnJe5p7uElICKQzIGbDfcevSVP+WjS1Wc4/XlLZtzJgxc1V1RLxpjeUk9YXAq5XFwXWAquaLSF/gYxFZqKqrYhdS1UeBRwFGjBiho0ePrrbSJUuW0KpVK2ckJRWCDby5KamkVq6/HkVFRVx22WU88MAD5OTk7MnLlZ6ezrBhw2pZev/MnDmTmn8bLzVEvI2FpVzx9Gw6FHzFK9n/JC0I/zv1L9y89k22FG8hJCG2RJ2rlR4uepj0YDqTjpnE6L77F7c+TfFv2RhjNfd4zWXbvCwQ+UDsffk93LZ4LgSq9V6nqvnue66IzMQ5P7Hq+4sm6LTJ9c/jkXA4zLnnnsvFF1/MOeecY30x1WPx+p1c8dQszi97jQmpUyjNGcSdB5/AC0seoU+bPrxw+gus2bnGfvIxxmNeFojZwAAR6YNTGC4EflJzJhEZBOQA/4tpywGKVbVMRDoAo4C7PMzVM6rKz3/+cwYPHsx1113ndzqN3oxlm/nd85/z1+C/ODHwJd8eOJaJqcWsWfMuFw++mGsPv5b0UDoHdzi4Wd5IZkxj4lmBUNUKERkPTMe5zPVJVV0kIrcCc1R1qjvrhcAUrX4yZDDwiIhEgQDOOYjaTm43ap9//jnPPvsshxxyCEOHDgXgpptu4rzz9qKr4Rbi+a/W8uRbH/Jq+t/oqnn8c/jZPLp9Ph2CHXjs1Mc4qutRfqdoTIvi6TkIVZ0GTKvR9qca45PiLPcFcIiXuSXLscce+71eJu0npuqiUeWv05ey6rNXeDvtYTZmZnJpn2NYVPA1P+z7QyYeOZHWqa39TtOYFqexnKQ2LVRpOML1L33DgKUP8Wjq67zQfRB/S6sgI7yTe0+4l1N7n+p3isa0WFYgjG+2FZVxzdMzuWLTHRyUtpCr+hzCV5FCjut6HH8+5s90zOzod4rGtGhWIIwvVm0p4tYnXuUvJXewoE0J53TuQ4WUc8vRt3DugHOtwztjGgErECbpvsrdxqv//juTAw9zV7f2fJjelmEdDub2UbfTs3ViTywzxnjPCoRJqqlfr2XzG3/gjOwPuahzFwoDAa4dNp7LD76cYKDhHpVojNl/ViBMUqgqj0+fQ58vria/0wYeaN2JAW378shxkzmw3YF+p2eMicMKRJJEIhFGjBhB9+7defHFF/1OJ6nKK6I89MKrHJT3R+7tFSI/pRU/O/hnjB82vs5eVI0x/rICkSQPPPAAgwcPZufOnX6nklSFJWGefeR2ojzD77pl0SWjI0+NvofhnYf7nZoxph773geySVheXh7vvvsuV155pd+pJFXe1h1MefB8ZmS+yNM52Zzd53ReP+cdKw7GNBEt5gjir7P+ytKCpQ26zkHtBvH7kb+vd75rr72Wu+66q9nfQf3gK9fxVuF0zs35Nfc+OImRFTt4o3MFWZLN30ffxegDTvI7RWPMXrAjCI+98847dOrUieHDm/e35gdfuY5ni6azOSVAwaZVtErdxMvtI/SNtOatCz6w4mBME9RijiAS+abvhc8//5ypU6cybdo0SktL2blzJ1deeSUvvfSSL/l45a3C6ZQEhRE7WvF26/eBIJ3KAhQECmmX3s7v9Iwx+8COIDx25513kpeXx5o1a5gyZQonnngijz/+uN9pNbhgOJPBZQHmtt1Fr/IUJBJgc1qUrSG7I9qYpsoKhNkvJaVF3Pr0+RSkl/BdWoShhVmckPNzdqc4Pdh2rPDmkbbGGO9ZgUii0aNH88477/idRoP5z6dPcdG/j+IVWcLA0lSyy9KZ12Y3gaBzR3R6NMpZbcb6nKUxZl9ZgTB7bdu2fG589ER+l3svBUH4v5xzeP7/zeWs9ifQKRwFoFM4yiXZY7n6x/f5nK0xZl+1mJPUpgGo8vLbf+bJzS+TnxbkmHBnbj77aXp0cDrYu/rH93E1zgPU/+/cRf7maozZb82+QKhqo+86uuYT5xqj1blzuP8/v2JGRimdCXJT72u44ISWdeOfMS1Nsy4Q6enpbNu2jfbt2zfaIqGqbNu2jfT0dL9TiSsaLuOJl3/Nc6VfUJge4GQGMeknT9Ams43fqRljPNasC0SPHj3Iy8tjy5YtfqdSTWlpabWCkJ6eTo8ePXzMKL75c9/kH7Nu5stM6BVN5+Yj7uDkQ8f5nZYxJkmadYFISUmhT58+fqfxPTNnzmTYsGF+p1Gr0l3b+OdLl/NKMJdwuvCjjBO46eK/kRpK8Ts1Y0wSJVQgRCQD6KWqyzzOx/hJlU8+fJBHcv/FwvQQA8NtufmUfzL0gMP8zswY44N6L3MVkTOAecD77vhQEZmayMpFZJyILBORlSJyY5zp94vIPPe1XER2xEy7TERWuK/LEt0gs2+2b1jG7f86lgn5j7E6JcTPOl7Eqz//rxUHY1qwRI4gJgEjgZkAqjpPROr93UZEgsBDwClAHjBbRKaq6uLKeVR1Qsz8vwGGucPtgFuAEYACc91ltye2WSZhkQrefv13PLFjGqsyUzgs0oM7fvQEvXK6+52ZMcZniRSIsKoW1rgKKJHrMkcCK1U1F0BEpgBnAYtrmf8inKIAMBb4QFUL3GU/AMYBLetRbB5bt2QGj3x8LVOzIrQNpHHDgOu49Bg7WDPGOBIpEItE5CdAUEQGAFcDXySwXHdgXcx4HnBkvBlF5ACgD/BxHcvaV9oGEi0p5KUXr+Kp6AI2ZgU5OnQoky94mJwMu3TVGLOH1HeTlohkAn8ETnWbpgN/UdXSepY7Dxinqle645cAR6rq+Djz/h7ooaq/ccevB9JV9S/u+M1AiareU2O5q4CrADp37jx8ypQp9Wxu41BUVER2drYv8Yq+m8FHu17iw+wUOoZTOSPnZwxrP8SzeF7z82/Z3OI1521LdrymtG1jxoyZq6oj4k5U1VpfQBCYUdc8dSx7NDA9ZnwiMLGWeb8BjokZvwh4JGb8EeCiuuINHz5cm4oZM2YkJc4DL0/QEx87SB969SH98T8H6wP3DddjnxisQ58aor999RotDZd6EjdZ25fsWM09XnPetmTHa0rbBszRWvardf7EpKoREYmKSBtVLdzLwjQbGOCe0M4HLgR+UnMmERkE5AD/i2meDtwhIjnu+KlugTEJqnzCW3lIyF7/Ka1DFTzWrowuZa2477THOKLnoX6naIxp5BI5B1EELHRPFO+ubFTVq+taSFUrRGQ8zs4+CDypqotE5FacilV5qeyFwBS3klUuWyAit+EUGYBb1T1hbRLzVuF0IgHh4gLlH+0WEiWNViVtiYQKrDgYYxKSSIF43X3tNVWdBkyr0fanGuOTaln2SeDJfYlrYFsQzi8Qnu0gdC9rS15oF2UZOyjSxtknlTGm8am3QKjqMyKSCgx0m5apatjbtMx+UeX8bSFe7hChc2kGP2h3Po8VPwrYE96MMYmrt0CIyGjgGWANIEBPEblMVT/1NDOzz15//kpeax+hfXkqG9PKCAXsCW/GmL2XyBPl7gVOVdUTVPV4nJvY7vc2LbOv3n/t99wV/pJ20XROajWKzhURwJ7wZozZe4mcg0jRmE76VHW5iFi3no3Qp+/fw52Fb5OmqTxy9uv0bd+LP2BPeDPG7JtECsQcEXkceM4dvxiY411KZl/M/e8z3Jb/BBWSwkNjn6Nv+15+p2SMaeISKRC/An6N08UGwGfAPz3LyOy1ZfOmMWnJZHaGQtw16p8M7dGwd0YbY1qmRApECHhAVe+Dql5a0zzNyiRs3Yr/cdOs37I+JcikYXdwwsBj/U7JGNNMJHKS+iMgI2Y8A/jQm3TM3tiSv5Q/fPRzVqQGuXbgDZwx9Ay/UzLGNCOJFIh0VS2qHHGHM71LySRi17b13DT1POZlBPl5t59xySjrptsY07ASKRC7ReTwyhERGQ6UeJeSqU/Z7u3c/NIP+CJTuKDtGfzm1N/6nZIxphlK5BzEtcArIrIe50a5LsAFXiZlahcpK+HPz4zlo6wIp6Ufw01n3eF3SsaYZiqRrjZmuz2uHug2WVcbPtFIBXc+NY63s0o4LnAQfz3/X36nZIxpxmr9iUlEjhCRLgBuQTgcuB24131mtEkmVe5/6ke8lFHA8GgP/n7xC9R4DKwxxjSous5BPAKUA4jI8cBk4N9AIfCo96mZWI88eylPh1YzJJzDI5e8RdDtX8kYY7xS109MwZhnMFwAPKqqrwGvicg8zzMzVZ575Vr+Ff2GfuEsHr3kPdJCqX6nZIxpAeo6ggiKSGUBOQn4OGZaIie3TQN4893beaDoA7qFU3nswmm0Ss/yOyVjTAtR147+ReATEdmKc1nrZwAi0h/nZybjsQ9mPsJdm14gJxriobPfoEOr9n6nZIxpQWotEKp6u4h8BHQF/hPzSNAA8JtkJNeSfTX7NW5f9QCpBLn31Ofo3fEAv1MyxrQwdf5UpKpfxmlb7l06BuDbRTO5ef7NhAMB7jnmnxzS6xC/UzLGtECJ3EltkmjN2vlM/OLX7AgGuPmw2zh60HF+p2SMaaGsQDQim7es4Yb3LyY/Rbi+37WMG/4jv1MyxrRgViAaiV27tvHb189ieRr8X5dLOP/4K/1OyRjTwtVbIETkHBFZISKFIrJTRHaJyM5kJNdSlJXu5rrnxzIvPcqlrU/jynG/9zslY4xJ6AjiLuBMVW2jqq1VtZWqtk5k5SIyTkSWichKEbmxlnnOF5HFIrJIRF6IaY+IyDz3NTWxzWl6opEKrn9mLF9mlHFuyhH89py7/U7JGGOAxG5426SqS/Z2xe6T5x4CTgHygNkiMlVVF8fMMwCYCIxS1e0i0ilmFSWqOnRv4zYlGo3yhydPZ2Z6IWN1AJN+8qTfKRljTJVECsQcEXkJeBMoq2xU1dfrWW4ksFJVcwFEZApwFrA4Zp5fAA+p6nZ3nZsTT73pu+3ZC3k3dT3HhTtz189e8TsdY4ypRvbc/1bLDCJPxWlWVb2inuXOA8ap6pXu+CXAkao6PmaeN4HlwCggCExS1ffdaRXAPKACmKyqb8aJcRVwFUDnzp2HT5kypc5t8dvm7XnsiBSSE+rEnLznmdZqFYcXZ3LJwL8QCqZ4FreoqIjs7GzP1u9nvOa8bcmO15y3LdnxmtK2jRkzZq6qjog7UVU9eQHnAY/HjF8C/KPGPO8AbwApQB9gHdDWndbdfe8LrAH61RVv+PDh2pg98PIEHfHkQTrk6SE68aGL9NCnDtbz/nmI3vvC1Z7HnjFjhucx/IrXnLct2fGa87YlO15T2jZgjtayX03kKqYeIvKGiGx2X6+JSI8EClM+0DNmvIfbFisPmKqqYVVdjXM0McAtXPnuey4wExiWQMxG663C6ZQGAhxQlMX7mQvoUybkpgrv7v7Q79SMMSauRK5iegqYCnRzX2+7bfWZDQwQkT4ikgpc6K4n1pvAaAAR6QAMBHJFJEdE0mLaR1H93EWTsyXkPNynvVYQUNgUTKE8FK1qN8aYxiaRAtFRVZ9S1Qr39TTQsb6FVLUCGA9MB5YAL6vqIhG5VUTOdGebDmwTkcXADOAGVd0GDMY5OT7fbZ+sMVc/NUUdK5xzPQWppfQtC1KUEq7WbowxjU0iVzFtE5Gf4nT/DXARsC2RlavqNGBajbY/xQwrcJ37ip3nC6BZ9VB3VpuxvLL9I75LjXB8UQeWsJn0aJSz2oz1OzVjjIkrkSOIK4DzgY3ABpyTzz/zMqnm6Oof38exkX5ERWib0odO4SiXZI/l6h/f53dqxhgTV71HEKq6FjizvvlM/SpSSwmpclTvM7lt7ON+p2OMMXWqtUCIyO9U9S4R+TvwvR/KVfVqTzNrhnIj+fSLBMlKS6inEmOM8VVdRxCV3WvMSUYizd32wi3kpkY4OWJPhjPGNA11PXL0bXewWFWr9QMhIj/2NKtmaPpXz1EhwiFdj/U7FWOMSUgiJ6knJthm6jA/fyYBVU4d+VO/UzHGmITUdQ7iNOAHQHcReTBmUmuc/pHMXsgNf0cfAnTp0JOlrPI7HWOMqVdd5yDW45x/OBOYG9O+C5jgZVLNza7dO1iVEua4SDe/UzHGmITVdQ5iPjBfRF5Q1XASc2p2Ppr1EmUB4eD2R/mdijHGJCyRO6l7i8idwEFAemWjqvb1LKtm5uvvnA75Thpxsc+ZGGNM4hLtrO9hnPMOY4B/A895mVRzs6o0l17l0KfbgX6nYowxCUukQGSo6kc4Dxdaq6qTgNO9Tav5KC0rZmVqKf3q79/QGGMalUR+YioTkQCwQkTG4zzTIXmPSmriZsx5jeJAgEHt4z+wyRhjGqtEjiCuATKBq4HhOE+Gu8zLpJqT2bnvAzBm6AU+Z2KMMXsnkc76ZruDRVgvrnttVfFyugWVwX2H+52KMcbslbpulHubOJ30VVJV6+G1HhUVYVamFHNoRXu/UzHGmL1W1xHEPe77OUAX9ly5dBGwycukmovPvpnKzmCAA7OH+p2KMcbstbpulPsEQETuVdXYM6xvi4j18JqAL5e/A8Dxh1rfhsaYpieRk9RZIlJ1U5yI9AGyvEup+VhZtISOFVGGDjjG71SMMWavJXKZ6wRgpojkAgIcAPzS06yagWgkwsrQLgZG2hAIBv1Oxxhj9loiVzG9LyIDgEFu01JVLfM2raZv1uKPKAgFGJA5xO9UjDFmn9R1FdOJqvqxiJxTY1I/EUFVX/c4tybt80VvAHDM4LP9TcQYY/ZRXUcQJwAfA2fEmaaAFYg6LNu5gJxQlGMOGet3KsYYs0/quorpFvd9n2+OE5FxwANAEHhcVSfHmed8YBJO0Zmvqj9x2y8DbnJn+4uqPrOvefghN7CD/hXZdv7BGNNk1fUT03V1Laiq99U1XUSCwEPAKUAeMFtEpqrq4ph5BuA8vnSUqm4XkU5uezvgFmAETuGY6y67PbHN8te8Zf9lU0qAMcHBfqdijDH7rK7LXFvV86rPSGClquaqajkwBTirxjy/AB6q3PGr6ma3fSzwgaoWuNM+AMYltkn++3TBqwAcOcA6vTXGNF2iWmtvGvu3YpHzgHGqeqU7fglwpKqOj5nnTWA5MArnZ6hJ7lVT1wPpqvoXd76bgRJVvadGjKuAqwA6d+48fMqUKZ5sy956cfEfWZC+g9sO+BuhYMr3phcVFZGdnbwOcZtzvOa8bcmO15y3LdnxmtK2jRkzZm6Nm6Gr1HuZq4ikAz8HDqb6E+Wu2Kdsvh9/ADAa6AF8KiKHJLqwqj4KPAowYsQIHT16dAOktP/+urKQARWZnHzSKXGnz5w5k2Tm2pzjNedtS3a85rxtyY7XXLYtkTupn8Xpi2ks8AnOjnxXAsvlAz1jxnu4bbHygKmqGlbV1ThHEwMSXLZRWr52HnkpQr/0/n6nYowx+yWRAtFfVW8GdrtXEp0OHJnAcrOBASLSR0RSgQuBqTXmeRPn6AER6QAMBHKB6cCpIpIjIjnAqW5bo/fR1y8BMKKvXd5qjGnaEulqI+y+7xCRIcBGoFN9C6lqhfsEuuk45xeeVNVFInIrMEdVp7KnECwGIsANqroNQERuwykyALeqasHebJhflm6dRUYoypgR1kGfMaZpS6RAPOp+i78Z5wgg2x2ul6pOA6bVaPtTzLAC17mvmss+CTyZSJzGJJfN9C9PIzPd+jM0xjRtdd0HsRh4AXjRvdT0E6BvbfMbWLdhBWtTlDO1j9+pGGPMfqvrHMRFON16/0dEZonIBBHpmqS8mqQP5ryAijDsgJP8TsUYY/ZbrQVCVeer6kRV7QdcDfQCvhKRGSLyi6Rl2IQs2vQFqVHl5JEX+p2KMcbst0SuYkJVv1TVCcClQFvgH14m1VTlRjfQLxyiTXY7v1Mxxpj9Vm+BEJEjROQ+EVmL06neI0A3rxNrajZty2d1apS+oV5+p2KMMQ2irpPUdwAXAAU4/SiNUtW8ZCXW1Hw4+3kiIhza/Ti/UzHGmAZR12WupTh9Ka2obBCRH6rqO96n1fQsWP8ZwYByysif+p2KMcY0iLpOUt8aWxxct3qcT5OVW7GOvuUBOubYhV7GmOYhoZPUMcSTLJq4Hbu2siq1gr6B7n6nYowxDWZvC8QvPcmiifvgqymERTi4yzF+p2KMMQ0mkauYfiwilQ8IGisir4vI4R7n1aTMW/cxosrJI+z8gzGm+UjkCOJmVd0lIscCJwJPAA97m1bTkhtewwFhoWcX62LDGNN8JFIgIu776cBjqvoukOpdSk1LceluVqaU04/OfqdijDENKpECkS8ij+DcEzFNRNISXK5F+HDWFEoDwuCOI/1OxRhjGlQiO/rzcZ7bMFZVdwDtgBu8TKop+Xr1BwCcdPhPfM7EGGMaViLPg+gKvKuqZSIyGjgU+LeXSTUlq0pX0iOo9O81xO9UjDGmQSVyBPEaEBGR/sCjOM+KfsHTrJqI8vIyVqaU0Dfawe9UjDGmwSVSIKKqWgGcA/xdVW/AOapo8T75+k2KggEGtbOrfo0xzU8iBSIsIhfhdPVd2Q9TincpNR1frXgXgBMOO9/nTIwxpuElUiB+BhwN3K6qq0WkD/Cst2k1DauKl9ElrBw64Ci/UzHGmAZXb4FQ1cXA9cBCERkC5KnqXz3PrJGLRiKsSCmiX7St36kYY4wn6r2Kyb1y6RlgDU5nfT1F5DJV/dTTzBq5Lxa8R2EwwMCsQ/1OxRhjPJHIZa73Aqeq6jIAERkIvAgM9zKxxu6LJW8BcOxB5/iciTHGeCORcxAplcUBQFWXk+BJahEZJyLLRGSliNwYZ/rlIrJFROa5rytjpkVi2qcmEi+ZVhQton1FlBEHjfE7FWOM8UQiRxBzReRx4Dl3/GJgTn0LiUgQeAg4BcgDZovIVPecRqyXVHV8nFWUqOrQBPJLumgkwspgIf0jrQkEg36nY4wxnkjkCOL/AYuBq93XYuBXCSw3ElipqrmqWo7zXOuz9jXRxuTrpZ+xNRSgf/ZBfqdijDGeEVWtfaJzFLBIVQft9YpFzsN5pvWV7vglwJGxRwsicjlwJ7AFWA5MUNV17rQKYB5QAUxW1TfjxLgKuAqgc+fOw6dMmbK3ae6TGcuf4PW0eVybdhn9uozY6+WLiorIzs72ILOWF685b1uy4zXnbUt2vKa0bWPGjJmrqvF3ZKpa5wt4C+hV33xxljsPeDxm/BLgHzXmaQ+kucO/BD6Omdbdfe+LcwVVv7riDR8+XJPll48cq6OeOEjD4fJ9Wn7GjBkNm1ALjtecty3Z8ZrztiU7XlPaNmCO1rJfTeQcRA6wSERmAbtjCsuZ9SyXj9NvU6UebltscdoWM/o4cFfMtHz3PVdEZgLDgFUJ5Ou53MB2+oWzCIXshnJjTPOVSIG4eR/XPRsY4N55nQ9cCFTrE1tEuqrqBnf0TGCJ254DFKvTg2wHYBQxxcNPi1bNYUOKcHzagX6nYowxnqq1QLi9t3ZW1U9qtB8LbIi/1B6qWiEi43GeJREEnlTVRSJyK84hzVTgahE5E+c8QwFwubv4YOAREYninEifrN+/+skXM+Y55zmO6H+az5kYY4y36jqC+BswMU57oTvtjPpWrqrTgGk12v4UMzwxXgxV/QI4pL71+2FpwVwyQ1HGDD/X71SMMcZTdV3m2llVF9ZsdNt6e5ZRI5fLFgaUp5OamuZ3KsYY46m6CkTbOqZlNHAeTULuukWsSxX6pvfzOxVjjPFcXQVijoj8omaj2x3GXO9Sarw+/No5/zC89yk+Z2KMMd6r6xzEtcAbInIxewrCCCAV+JHHeTVKi7d8SVpQOfmIC/1OxRhjPFdrgVDVTcAxIjIGGOI2v6uqHycls0ZotW6kfziFrMxWfqdijDGeq/c+CFWdAcxIQi6N2vota1mdovxQe/udijHGJEUiN8oZ4INZz6EiHNb9BL9TMcaYpEikN1cDfLvxc0KqnDryYr9TMcaYpLAjiATlRvLpFwmS06aj36kYY0xS2BFEArbt2EhuaoS+wR5+p2KMMUljBSIBH8x6gQoRDul6nN+pGGNM0liBSMD8/E8IqHKKnX8wxrQgdg4iAbnh7+hDgC4detY/szHGNBN2BFGPXbt3sColTJ9AV79TMcaYpLIjiHp8OGsKZQHh4PZH+Z2KMcYklR1B1OPrtR8BcMoIO/9gjGlZ7AiiHrlluRwQgAO6DfQ7FWOMSSo7gqhDaVkxK1NL6YvdHGeMaXmsQNRhxpzXKA4EGNR+hN+pGGNM0lmBqMPsVe8BcNKwi3zOxBhjks/OQdRhZckKugWVA/sM8zsVY4xJOjuCqEVFRZiVKcX0i7bzOxVjjPGFHUHU4rNvprIrGGBg9lC/UzHGGF94egQhIuNEZJmIrBSRG+NMv1xEtojIPPd1Zcy0y0Rkhfu6zMs84/ly+TsAHH/oj5Md2hhjGgXPjiBEJAg8BJwC5AGzRWSqqi6uMetLqjq+xrLtgFuAEYACc91lt3uVb00ri5bQMRRl6IBjkhXSGGMaFS+PIEYCK1U1V1XLgSnAWQkuOxb4QFUL3KLwATDOozy/JxqJsCK0i/6RtgSCwWSFNcaYRkVU1ZsVi5wHjFPVK93xS4AjY48WRORy4E5gC7AcmKCq60TkeiBdVf/iznczUKKq99SIcRVwFUDnzp2HT5kypUFyX7NlPvcWP87ZpUM46cBfNsg6YxUVFZGdnd3g622J8ZrztiU7XnPetmTHa0rbNmbMmLmqGv9mL1X15AWcBzweM34J8I8a87QH0tzhXwIfu8PXAzfFzHczcH1d8YYPH64N5e4Xf6lDnh6in8+b1mDrjDVjxgxP1tsS4zXnbUt2vOa8bcmO15S2DZijtexXvfyJKR+IfYBCD7etiqpuU9Uyd/RxYHiiy3pp+c6F5ESiHDXk1GSFNMaYRsfLAjEbGCAifUQkFbgQmBo7g4jEPmThTGCJOzwdOFVEckQkBzjVbUuK3MAO+ldk2/kHY0yL5tlVTKpaISLjcXbsQeBJVV0kIrfiHNJMBa4WkTOBCqAAuNxdtkBEbsMpMgC3qmqBV7nGmrfsv2xKCTAmODgZ4YwxptHy9EY5VZ0GTKvR9qeY4YnAxFqWfRJ40sv84vlkwSsAHD3wh8kObYwxjYp1tVHDsu3zaBWJcvzhiV6Ra4wxzZMViBpyA9voX5FJKJTidyrGGOMrKxAxlq+dR36K0C+9v9+pGGOM76xAxPjo65cAGNF3rM+ZGGOM/6xAxFiy9SsyolFOOuJ8v1MxxhjfWYGIkcsW+ofTSE/L9DsVY4zxnRUI17oNK1ibCn1T+/idijHGNApWIFwfzHkBgGG9TvI5E2OMaRysQLgWbfqC1Khy8sgL/U7FGGMaBXvkqCs3uoF+0RBtsu0Z1MYYA3YEAcCmbfmsTo3SL9TL71SMMabRsAIBfDDrOSIiHNL9BL9TMcaYRqPFF4gHX7mOj1e+SkiVZ1Y/zYOvXOd3SsYY0yi06ALx4CvX8WzRdHaklnJAGazPgGeLpluRMMYYWniBeKtwOpFokDVpSpvydABKAwHeKkzas4mMMabRatEFYktIyIqkMrg4xC5JrdZujDEtXYu+zLVjhbI5rYwdaQC7qrUbY0xL16KPIM5qM5b0aLRaW3o0ylltrDdXY4xp0QXi6h/fxyXZY+kUjiKqdApHuSR7LFf/+D6/UzPGGN+16J+YwCkSV/udhDHGNEIt+gjCGGNM7axAGGOMicsKhDHGmLisQBhjjInLCoQxxpi4RLV53BQmIluAtX7nkaAOwFaL1+RiNfd4zXnbkh2vKW3bAaraMd6EZlMgmhIRmaOqIyxe04rV3OM1521Ldrzmsm32E5Mxxpi4rEAYY4yJywqEPx61eE0yVnOP15y3LdnxmsW22TkIY4wxcdkRhDHGmLisQBhjjInLCoQPRCQoIt+IyDtJiNVWRF4VkaUiskREjvYw1gQRWSQi34rIiyKS3sDrf1JENovItzFt7UTkAxFZ4b7neBzvbvdvuUBE3hCRtl7Fipn2WxFREenQELHqiiciv3G3b5GI3OVlPBEZKiJfisg8EZkjIiMbKFZPEZkhIovd7bjGbffks1JHvAb/rNQWK2Z6w35WVNVeSX4B1wEvAO8kIdYzwJXucCrQ1qM43YHVQIY7/jJweQPHOB44HPg2pu0u4EZ3+Ebgrx7HOxUIucN/bah48WK57T2B6Tg3gXbweNvGAB8Cae54J4/j/Qc4zR3+ATCzgWJ1BQ53h1sBy4GDvPqs1BGvwT8rtcXy6rNiRxBJJiI9gNOBx5MQqw3Of8wnAFS1XFV3eBgyBGSISAjIBNY35MpV9VOgoEbzWThFEPf9bC/jqep/VLXCHf0S6OFVLNf9wO+ABr2apJZ4vwImq2qZO89mj+Mp0NodbkMDfV5UdYOqfu0O7wKW4HyB8eSzUls8Lz4rdWwbePBZsQKRfH/D+UeM1jNfQ+gDbAGecn/SelxEsrwIpKr5wD3Ad8AGoFBV/+NFrBo6q+oGd3gj0DkJMStdAbzn1cpF5CwgX1XnexWjhoHAcSLylYh8IiJHeBzvWuBuEVmH89mZ2NABRKQ3MAz4iiR8VmrEi9Xgn5XYWF59VqxAJJGI/BDYrKpzkxQyhHNY/7CqDgN24xxaNzj399yzcIpSNyBLRH7qRazaqHOcnZTrtkXkj0AF8LxH688E/gD8yYv11yIEtAOOAm4AXhYR8TDer4AJqtoTmIB7pNtQRCQbeA24VlV3xk7z4rNSWzwvPiuxsdx1e/JZsQKRXKOAM0VkDTAFOFFEnvMwXh6Qp6qV32ZexSkYXjgZWK2qW1Q1DLwOHONRrFibRKQrgPveYD+L1EZELgd+CFzs7mi80A+n2M53Py89gK9FpItH8cD5vLyujlk4R7kNdmI8jstwPicArwANcpIaQERScHagz6tqZQzPPiu1xPPksxInlmefFSsQSaSqE1W1h6r2Bi4EPlZVz75lq+pGYJ2IHOg2nQQs9ijcd8BRIpLpfus8Cef3Ua9NxdnR4L6/5WUwERmH8xPhmapa7FUcVV2oqp1Utbf7ecnDOTm50auYwJs4J6oRkYE4FzV42SPpeuAEd/hEYEVDrNT9/D0BLFHV+2ImefJZqS2eF5+VeLE8/aw0xJlue+3T1QijSc5VTEOBOcACnB1Ajoex/gwsBb4FnsW9GqYB1/8izvmNsPuf4OdAe+AjnJ3Lh0A7j+OtBNYB89zXv7yKVWP6Ghr2KqZ425YKPOf++30NnOhxvGOBucB8nN/shzdQrGNxfj5aEPPv9AOvPit1xGvwz0ptsbz6rFhXG8YYY+Kyn5iMMcbEZQXCGGNMXFYgjDHGxGUFwhhjTFxWIIwxxsRlBcK0aG7Pl8/FjIdEZIs0QE+7IjJaRArdbk6Wicin7t30+7q+3iLyk5jxy0XkH/ubpzG1sQJhWrrdwBARyXDHTwHyG3D9n6nqMFU9ELga+IeInLSP6+oN/KS+mYxpKFYgjIFpOD3sAlyEc1MXACIyUkT+5x4FfFF5V7o4z7540h0+RJxnYGTWFURV5wG3AuPd5TqKyGsiMtt9jXLbJ4nIs27cFSLyC3cVk3E605snIhPctm4i8r47X4M9v8EYsAJhDDj9Yl0ozgOODqV6T5xLgePU6ezwT8AdbvsDQH8R+RHwFPBLTaw7ha+BQTHruF9VjwDOpXoX8IfidD9xNPAnEemG09HiZ6o6VFXvd+cbClwAHAJcICI9E99sY+oW8jsBY/ymqgvcrpMvwjmaiNUGeEZEBuB0cZDiLhN1O2JbADyiqp8nGC62d9STgYNiOkxt7fbSCfCWqpYAJSIyA6cjux1x1veRqhYCiMhi4ACc7h2M2W9WIIxxTMV5JsFonD57Kt0GzFDVH7lFZGbMtAFAEU735okaxp5ODAPAUapaGjuDWzBq9oFTW584ZTHDEez/tGlA9hOTMY4ngT+r6sIa7W3Yc9L68spG92l9D+I8sa+9iJxXXwARORS4GXjIbfoP8JuY6UNjZj9LRNJFpD1O0ZoN7MJ5zKQxSWEFwhhAVfNU9cE4k+4C7hSRb6j+7fx+4CFVXY7TM+lkEekUZ/njKi9zxSkMV6vqR+60q4ER4jzUfjHw/2KWWwDMwHlU5W2qut5ti4jI/JiT1MZ4xnpzNaaREZFJQJGq3uN3LqZlsyMIY4wxcdkRhDHGmLjsCMIYY0xcViCMMcbEZQXCGGNMXFYgjDHGxGUFwhhjTFz/H4laR9cntlCBAAAAAElFTkSuQmCC\n",
       "datasetInfos": [],
       "metadata": {},
       "removedWidgets": [],
       "type": "image"
      }
     },
     "output_type": "display_data"
    }
   ],
   "source": [
    "model_params = cv_model.getEstimatorParamMaps()\n",
    "\n",
    "dt_cv_summary_list = []\n",
    "for param_set, acc in zip(model_params, cv_model.avgMetrics):\n",
    "    new_set = list(param_set.values()) + [acc]\n",
    "    dt_cv_summary_list.append(new_set)\n",
    "\n",
    "cv_summary = pd.DataFrame(dt_cv_summary_list,\n",
    "                            columns=['maxDepth', 'minInst', 'acc'])\n",
    "\n",
    "for mi in cv_summary.minInst.unique():\n",
    "    sel = cv_summary.minInst == mi\n",
    "    plt.plot(cv_summary.maxDepth[sel], cv_summary.acc[sel], label=mi)\n",
    "    plt.scatter(cv_summary.maxDepth[sel], cv_summary.acc[sel])\n",
    "\n",
    "plt.legend()\n",
    "plt.grid()\n",
    "plt.xticks(range(4,26,2))\n",
    "plt.xlabel('Max Depth')\n",
    "plt.ylabel('Cross-Validation Score')\n",
    "plt.show()"
   ]
  },
  {
   "cell_type": "code",
   "execution_count": 0,
   "metadata": {
    "application/vnd.databricks.v1+cell": {
     "cellMetadata": {
      "byteLimit": 2048000,
      "rowLimit": 10000
     },
     "inputWidgets": {},
     "nuid": "e52b06c2-5efb-4b0e-bc16-509628c19d8b",
     "showTitle": false,
     "title": ""
    }
   },
   "outputs": [
    {
     "output_type": "display_data",
     "data": {
      "text/html": [
       "<div>\n",
       "<style scoped>\n",
       "    .dataframe tbody tr th:only-of-type {\n",
       "        vertical-align: middle;\n",
       "    }\n",
       "\n",
       "    .dataframe tbody tr th {\n",
       "        vertical-align: top;\n",
       "    }\n",
       "\n",
       "    .dataframe thead th {\n",
       "        text-align: right;\n",
       "    }\n",
       "</style>\n",
       "<table border=\"1\" class=\"dataframe\">\n",
       "  <thead>\n",
       "    <tr style=\"text-align: right;\">\n",
       "      <th></th>\n",
       "      <th>feature</th>\n",
       "      <th>importance</th>\n",
       "    </tr>\n",
       "  </thead>\n",
       "  <tbody>\n",
       "    <tr>\n",
       "      <th>0</th>\n",
       "      <td>Elevation</td>\n",
       "      <td>(0.39425992555333683, 0.0481157907154839, 0.02...</td>\n",
       "    </tr>\n",
       "    <tr>\n",
       "      <th>1</th>\n",
       "      <td>Aspect</td>\n",
       "      <td>(0.39425992555333683, 0.0481157907154839, 0.02...</td>\n",
       "    </tr>\n",
       "    <tr>\n",
       "      <th>2</th>\n",
       "      <td>Slope</td>\n",
       "      <td>(0.39425992555333683, 0.0481157907154839, 0.02...</td>\n",
       "    </tr>\n",
       "    <tr>\n",
       "      <th>3</th>\n",
       "      <td>Horizontal_Distance_To_Hydrology</td>\n",
       "      <td>(0.39425992555333683, 0.0481157907154839, 0.02...</td>\n",
       "    </tr>\n",
       "    <tr>\n",
       "      <th>4</th>\n",
       "      <td>Vertical_Distance_To_Hydrology</td>\n",
       "      <td>(0.39425992555333683, 0.0481157907154839, 0.02...</td>\n",
       "    </tr>\n",
       "    <tr>\n",
       "      <th>5</th>\n",
       "      <td>Horizontal_Distance_To_Roadways</td>\n",
       "      <td>(0.39425992555333683, 0.0481157907154839, 0.02...</td>\n",
       "    </tr>\n",
       "    <tr>\n",
       "      <th>6</th>\n",
       "      <td>Hillshade_9am</td>\n",
       "      <td>(0.39425992555333683, 0.0481157907154839, 0.02...</td>\n",
       "    </tr>\n",
       "    <tr>\n",
       "      <th>7</th>\n",
       "      <td>Hillshade_Noon</td>\n",
       "      <td>(0.39425992555333683, 0.0481157907154839, 0.02...</td>\n",
       "    </tr>\n",
       "    <tr>\n",
       "      <th>8</th>\n",
       "      <td>Hillshade_3pm</td>\n",
       "      <td>(0.39425992555333683, 0.0481157907154839, 0.02...</td>\n",
       "    </tr>\n",
       "    <tr>\n",
       "      <th>9</th>\n",
       "      <td>Horizontal_Distance_To_Fire_Points</td>\n",
       "      <td>(0.39425992555333683, 0.0481157907154839, 0.02...</td>\n",
       "    </tr>\n",
       "    <tr>\n",
       "      <th>10</th>\n",
       "      <td>Wilderness_Area</td>\n",
       "      <td>(0.39425992555333683, 0.0481157907154839, 0.02...</td>\n",
       "    </tr>\n",
       "    <tr>\n",
       "      <th>11</th>\n",
       "      <td>Soil_Type</td>\n",
       "      <td>(0.39425992555333683, 0.0481157907154839, 0.02...</td>\n",
       "    </tr>\n",
       "  </tbody>\n",
       "</table>\n",
       "</div>"
      ]
     },
     "metadata": {
      "application/vnd.databricks.v1+output": {
       "addedWidgets": {},
       "arguments": {},
       "data": "<div>\n<style scoped>\n    .dataframe tbody tr th:only-of-type {\n        vertical-align: middle;\n    }\n\n    .dataframe tbody tr th {\n        vertical-align: top;\n    }\n\n    .dataframe thead th {\n        text-align: right;\n    }\n</style>\n<table border=\"1\" class=\"dataframe\">\n  <thead>\n    <tr style=\"text-align: right;\">\n      <th></th>\n      <th>feature</th>\n      <th>importance</th>\n    </tr>\n  </thead>\n  <tbody>\n    <tr>\n      <th>0</th>\n      <td>Elevation</td>\n      <td>(0.39425992555333683, 0.0481157907154839, 0.02...</td>\n    </tr>\n    <tr>\n      <th>1</th>\n      <td>Aspect</td>\n      <td>(0.39425992555333683, 0.0481157907154839, 0.02...</td>\n    </tr>\n    <tr>\n      <th>2</th>\n      <td>Slope</td>\n      <td>(0.39425992555333683, 0.0481157907154839, 0.02...</td>\n    </tr>\n    <tr>\n      <th>3</th>\n      <td>Horizontal_Distance_To_Hydrology</td>\n      <td>(0.39425992555333683, 0.0481157907154839, 0.02...</td>\n    </tr>\n    <tr>\n      <th>4</th>\n      <td>Vertical_Distance_To_Hydrology</td>\n      <td>(0.39425992555333683, 0.0481157907154839, 0.02...</td>\n    </tr>\n    <tr>\n      <th>5</th>\n      <td>Horizontal_Distance_To_Roadways</td>\n      <td>(0.39425992555333683, 0.0481157907154839, 0.02...</td>\n    </tr>\n    <tr>\n      <th>6</th>\n      <td>Hillshade_9am</td>\n      <td>(0.39425992555333683, 0.0481157907154839, 0.02...</td>\n    </tr>\n    <tr>\n      <th>7</th>\n      <td>Hillshade_Noon</td>\n      <td>(0.39425992555333683, 0.0481157907154839, 0.02...</td>\n    </tr>\n    <tr>\n      <th>8</th>\n      <td>Hillshade_3pm</td>\n      <td>(0.39425992555333683, 0.0481157907154839, 0.02...</td>\n    </tr>\n    <tr>\n      <th>9</th>\n      <td>Horizontal_Distance_To_Fire_Points</td>\n      <td>(0.39425992555333683, 0.0481157907154839, 0.02...</td>\n    </tr>\n    <tr>\n      <th>10</th>\n      <td>Wilderness_Area</td>\n      <td>(0.39425992555333683, 0.0481157907154839, 0.02...</td>\n    </tr>\n    <tr>\n      <th>11</th>\n      <td>Soil_Type</td>\n      <td>(0.39425992555333683, 0.0481157907154839, 0.02...</td>\n    </tr>\n  </tbody>\n</table>\n</div>",
       "datasetInfos": [],
       "metadata": {},
       "removedWidgets": [],
       "textData": null,
       "type": "htmlSandbox"
      }
     },
     "output_type": "display_data"
    }
   ],
   "source": [
    "features = num_features + cat_features\n",
    "\n",
    "pd.DataFrame({\n",
    "    'feature':features,\n",
    "    'importance':dt_model.featureImportances\n",
    "})"
   ]
  },
  {
   "cell_type": "markdown",
   "metadata": {
    "application/vnd.databricks.v1+cell": {
     "cellMetadata": {
      "byteLimit": 2048000,
      "rowLimit": 10000
     },
     "inputWidgets": {},
     "nuid": "153fd89a-f213-41f2-9321-fc8d58514d1c",
     "showTitle": false,
     "title": ""
    }
   },
   "source": [
    "##Part F: Identifying and Evaluating the Final Model"
   ]
  },
  {
   "cell_type": "markdown",
   "metadata": {
    "application/vnd.databricks.v1+cell": {
     "cellMetadata": {
      "byteLimit": 2048000,
      "rowLimit": 10000
     },
     "inputWidgets": {},
     "nuid": "e96c5f35-fe9d-4ec1-b77c-56b93a40eec5",
     "showTitle": false,
     "title": ""
    }
   },
   "source": [
    "The dt_model is better because it has a higher cross-validation score."
   ]
  },
  {
   "cell_type": "code",
   "execution_count": 0,
   "metadata": {
    "application/vnd.databricks.v1+cell": {
     "cellMetadata": {
      "byteLimit": 2048000,
      "rowLimit": 10000
     },
     "inputWidgets": {},
     "nuid": "0e2765a2-bcc6-470e-b32b-07b391b3d575",
     "showTitle": false,
     "title": ""
    }
   },
   "outputs": [
    {
     "output_type": "stream",
     "name": "stdout",
     "output_type": "stream",
     "text": [
      "+---------------------------------------------------------------------------------+----------+----------+\n|probability                                                                      |prediction|Cover_Type|\n+---------------------------------------------------------------------------------+----------+----------+\n|[0.0,0.0,0.0,0.0,0.0,0.0,1.0,0.0]                                                |6.0       |6         |\n|[0.0,0.0,0.0,0.0,0.0,0.0,1.0,0.0]                                                |6.0       |6         |\n|[0.0,0.0,0.0,0.0,0.0,0.0,1.0,0.0]                                                |6.0       |6         |\n|[0.0,0.0,0.0,0.0,0.0,0.0,1.0,0.0]                                                |6.0       |6         |\n|[0.0,0.0,0.0,0.5714285714285714,0.047619047619047616,0.0,0.38095238095238093,0.0]|3.0       |6         |\n|[0.0,0.0,0.0,0.0,0.0,0.0,1.0,0.0]                                                |6.0       |6         |\n|[0.0,0.0,0.0,0.0,0.0,0.0,1.0,0.0]                                                |6.0       |6         |\n|[0.0,0.0,0.0,0.023529411764705882,0.0,0.0,0.9764705882352941,0.0]                |6.0       |6         |\n|[0.0,0.0,0.0,0.0,0.0,0.0,1.0,0.0]                                                |6.0       |6         |\n|[0.0,0.0,0.0,0.0,0.0,0.0,1.0,0.0]                                                |6.0       |6         |\n+---------------------------------------------------------------------------------+----------+----------+\nonly showing top 10 rows\n\n"
     ]
    }
   ],
   "source": [
    "test_pred = dt_model.transform(train)\n",
    "test_pred.select('probability', 'prediction', 'Cover_Type').show(10, truncate=False)"
   ]
  },
  {
   "cell_type": "code",
   "execution_count": 0,
   "metadata": {
    "application/vnd.databricks.v1+cell": {
     "cellMetadata": {
      "byteLimit": 2048000,
      "rowLimit": 10000
     },
     "inputWidgets": {},
     "nuid": "8d16b60d-44a1-4dfb-9316-5b5649efdd8e",
     "showTitle": false,
     "title": ""
    }
   },
   "outputs": [
    {
     "output_type": "stream",
     "name": "stdout",
     "output_type": "stream",
     "text": [
      "/databricks/spark/python/pyspark/sql/context.py:165: FutureWarning: Deprecated in 3.0.0. Use SparkSession.builder.getOrCreate() instead.\n  warnings.warn(\nAccuracy: 0.9674\n"
     ]
    }
   ],
   "source": [
    "pred_and_labels = test_pred.rdd.map(lambda x:(x['prediction'],float(x['Cover_Type'])))\n",
    "metrics = MulticlassMetrics(pred_and_labels)\n",
    "accuracy = metrics.accuracy\n",
    "print(f\"Accuracy: {accuracy:.4f}\")"
   ]
  },
  {
   "cell_type": "code",
   "execution_count": 0,
   "metadata": {
    "application/vnd.databricks.v1+cell": {
     "cellMetadata": {
      "byteLimit": 2048000,
      "rowLimit": 10000
     },
     "inputWidgets": {},
     "nuid": "dc9ae0ff-a36c-41a3-9a5a-2d4dbaa182e5",
     "showTitle": false,
     "title": ""
    }
   },
   "outputs": [
    {
     "output_type": "stream",
     "name": "stdout",
     "output_type": "stream",
     "text": [
      "        1       2       3       4       5       6       7\n1  1641.0    37.0     0.0     0.0    16.0     2.0     7.0\n2    46.0  1619.0     2.0     0.0    72.0    16.0     0.0\n3     2.0     1.0  1622.0     2.0     5.0    97.0     0.0\n4     0.0     0.0     5.0  1681.0     0.0     3.0     0.0\n5     2.0     7.0     1.0     0.0  1740.0     4.0     0.0\n6     0.0     2.0    50.0     3.0     4.0  1701.0     0.0\n7     4.0     2.0     0.0     0.0     3.0     0.0  1719.0\n"
     ]
    }
   ],
   "source": [
    "confusion_matrix = metrics.confusionMatrix()\n",
    "\n",
    "confusion_matrix_df = pd.DataFrame(confusion_matrix.toArray(), index=range(1, 8), columns=range(1, 8))\n",
    "\n",
    "print(confusion_matrix_df)"
   ]
  },
  {
   "cell_type": "markdown",
   "metadata": {
    "application/vnd.databricks.v1+cell": {
     "cellMetadata": {
      "byteLimit": 2048000,
      "rowLimit": 10000
     },
     "inputWidgets": {},
     "nuid": "1ea83cfe-a44c-459f-9b4e-d0920436c7cc",
     "showTitle": false,
     "title": ""
    }
   },
   "source": [
    "Observations in the test set with Cover Type 6 were misclassified by the model as Cover Type 3 a total\n",
    "of 97 times. This was the most common type of misclassification in the test set."
   ]
  },
  {
   "cell_type": "code",
   "execution_count": 0,
   "metadata": {
    "application/vnd.databricks.v1+cell": {
     "cellMetadata": {
      "byteLimit": 2048000,
      "rowLimit": 10000
     },
     "inputWidgets": {},
     "nuid": "687a8764-694f-4f9e-8440-efd09d75c979",
     "showTitle": false,
     "title": ""
    }
   },
   "outputs": [
    {
     "output_type": "stream",
     "name": "stdout",
     "output_type": "stream",
     "text": [
      " Label  Precision  Recall\n   1.0     0.9681  0.9636\n   2.0     0.9706  0.9225\n   3.0     0.9655  0.9381\n   4.0     0.9970  0.9953\n   5.0     0.9457  0.9920\n   6.0     0.9331  0.9665\n   7.0     0.9959  0.9948\n"
     ]
    }
   ],
   "source": [
    "precision_recall_df = pd.DataFrame(columns=['Label', 'Precision', 'Recall'])\n",
    "\n",
    "for label in range(1, 8):\n",
    "    precision = metrics.precision(label)\n",
    "    recall = metrics.recall(label)\n",
    "    precision_recall_df = precision_recall_df.append({'Label': label, 'Precision': precision, 'Recall': recall}, ignore_index=True)\n",
    "\n",
    "precision_recall_df = precision_recall_df.round(4)\n",
    "\n",
    "print(precision_recall_df.to_string(index=False))"
   ]
  },
  {
   "cell_type": "markdown",
   "metadata": {
    "application/vnd.databricks.v1+cell": {
     "cellMetadata": {
      "byteLimit": 2048000,
      "rowLimit": 10000
     },
     "inputWidgets": {},
     "nuid": "6eefd403-443d-4014-8ad5-288c43513e48",
     "showTitle": false,
     "title": ""
    }
   },
   "source": [
    "Use the precision and recall results for the test set to answer the following questions in a markdown cell.\n",
    "Provide justification for your answers.\n",
    "1. Which cover type is most likely to be correctly classified by our final model? \n",
    "   Cover type 4\n",
    "2. Which cover type is most likely to be misclassified by our final model? \n",
    "   Cover type 6\n",
    "3. Which cover type has the greatest difference between its precision and recall? Explain the meaning of\n",
    "both of these values with respect to this cover type. \n",
    "   Cover type 5 has the greatest difference between the two. Its recall is higher by about 5 meaning it was choosen more than it was supposed to be."
   ]
  }
 ],
 "metadata": {
  "application/vnd.databricks.v1+notebook": {
   "dashboards": [],
   "language": "python",
   "notebookMetadata": {
    "pythonIndentUnit": 4
   },
   "notebookName": "Project_03",
   "widgets": {}
  }
 },
 "nbformat": 4,
 "nbformat_minor": 0
}
