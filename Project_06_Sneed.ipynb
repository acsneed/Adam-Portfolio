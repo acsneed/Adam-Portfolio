{
 "cells": [
  {
   "cell_type": "markdown",
   "metadata": {
    "application/vnd.databricks.v1+cell": {
     "cellMetadata": {
      "byteLimit": 2048000,
      "rowLimit": 10000
     },
     "inputWidgets": {},
     "nuid": "ec7e1ef3-1d89-4842-8dc9-8197e91b62ab",
     "showTitle": false,
     "title": ""
    }
   },
   "source": [
    "#DSCI 417 – Project 02\n",
    "##Student Grade Database\n",
    "**Adam Sneed**"
   ]
  },
  {
   "cell_type": "markdown",
   "metadata": {
    "application/vnd.databricks.v1+cell": {
     "cellMetadata": {
      "byteLimit": 2048000,
      "rowLimit": 10000
     },
     "inputWidgets": {},
     "nuid": "2e36a0c4-a995-4959-8cc9-a578b1743b38",
     "showTitle": false,
     "title": ""
    }
   },
   "source": [
    "##Part A: Set up Environment\n",
    "In this part of the project, we will set up our environment."
   ]
  },
  {
   "cell_type": "code",
   "execution_count": 0,
   "metadata": {
    "application/vnd.databricks.v1+cell": {
     "cellMetadata": {
      "byteLimit": 2048000,
      "rowLimit": 10000
     },
     "inputWidgets": {},
     "nuid": "ef82ad83-cdf2-48e4-9485-d13ff9fb00ab",
     "showTitle": false,
     "title": ""
    }
   },
   "outputs": [],
   "source": [
    "import numpy as np\n",
    "import pandas as pd\n",
    "import matplotlib.pyplot as plt\n",
    "from pyspark.sql import SparkSession\n",
    "from pyspark.sql.functions import col, expr, count, round, udf, sum, when\n",
    "from pyspark.sql.types import DoubleType, FloatType, StringType, IntegerType\n",
    "spark = SparkSession.builder.getOrCreate()"
   ]
  },
  {
   "cell_type": "markdown",
   "metadata": {
    "application/vnd.databricks.v1+cell": {
     "cellMetadata": {
      "byteLimit": 2048000,
      "rowLimit": 10000
     },
     "inputWidgets": {},
     "nuid": "e30072c4-58fb-40d4-9d44-68e5562c4e3a",
     "showTitle": false,
     "title": ""
    }
   },
   "source": [
    "##Part B: Load the Data\n",
    "We will begin this section by loading in each data file into a spark DataFrame."
   ]
  },
  {
   "cell_type": "code",
   "execution_count": 0,
   "metadata": {
    "application/vnd.databricks.v1+cell": {
     "cellMetadata": {
      "byteLimit": 2048000,
      "rowLimit": 10000
     },
     "inputWidgets": {},
     "nuid": "40bb4071-84ef-4d21-9758-41d3ae0702a0",
     "showTitle": false,
     "title": ""
    }
   },
   "outputs": [],
   "source": [
    "\n",
    "accepted_schema = 'acc_term_id STRING, sid INT, first_name STRING, last_name STRING, major STRING'\n",
    "alumni_schema = 'sid INT'\n",
    "expelled_schema = 'sid INT'\n",
    "unretained_schema = 'sid INT'\n",
    "faculty_schema = 'fid INT, first_name STRING, last_name STRING, dept STRING'\n",
    "courses_schema = 'dept STRING, course STRING, prereq STRING, credits INT'\n",
    "grades_schema = 'term_id STRING, course STRING, sid INT, fid INT, grade STRING'\n",
    "\n",
    "alumni = spark.read.option('delimiter', ',').\\\n",
    "    csv('/FileStore/tables/univ/alumni.csv', header='True', schema=alumni_schema)\n",
    "\n",
    "courses = spark.read.option('delimiter', ',').\\\n",
    "    csv('/FileStore/tables/univ/courses.csv', header='True', schema=courses_schema)\n",
    "\n",
    "expelled = spark.read.option('delimiter', ',').\\\n",
    "    csv('/FileStore/tables/univ/expelled.csv', header='True', schema=expelled_schema)\n",
    "\n",
    "faculty = spark.read.option('delimiter', ',').\\\n",
    "    csv('/FileStore/tables/univ/faculty.csv', header='True', schema=faculty_schema)\n",
    "\n",
    "grades = spark.read.option('delimiter', ',').\\\n",
    "    csv('/FileStore/tables/univ/grades.csv', header='True', schema=grades_schema)\n",
    "\n",
    "accepted = spark.read.option('delimiter', ',').\\\n",
    "    csv('/FileStore/tables/univ/accepted.csv', header='True', schema=accepted_schema)\n",
    "\n",
    "unretained = spark.read.option('delimiter', ',').\\\n",
    "    csv('/FileStore/tables/univ/unretained.csv', header='True', schema=unretained_schema)"
   ]
  },
  {
   "cell_type": "markdown",
   "metadata": {
    "application/vnd.databricks.v1+cell": {
     "cellMetadata": {
      "byteLimit": 2048000,
      "rowLimit": 10000
     },
     "inputWidgets": {},
     "nuid": "90d188be-80ef-40c2-a2cd-a282cdcd753e",
     "showTitle": false,
     "title": ""
    }
   },
   "source": [
    "Next, we will print the number of records in each DataFrame."
   ]
  },
  {
   "cell_type": "code",
   "execution_count": 0,
   "metadata": {
    "application/vnd.databricks.v1+cell": {
     "cellMetadata": {
      "byteLimit": 2048000,
      "rowLimit": 10000
     },
     "inputWidgets": {},
     "nuid": "a9d486d6-f754-43e0-9770-723b078696bf",
     "showTitle": false,
     "title": ""
    }
   },
   "outputs": [
    {
     "output_type": "stream",
     "name": "stdout",
     "output_type": "stream",
     "text": [
      "Number of records in 'accepted' DataFrame: 12207\nNumber of records in 'alumni' DataFrame: 4920\nNumber of records in 'expelled' DataFrame: 403\nNumber of records in 'unretained' DataFrame: 2289\nNumber of records in 'faculty' DataFrame: 330\nNumber of records in 'courses' DataFrame: 119\nNumber of records in 'grades' DataFrame: 285137\n"
     ]
    }
   ],
   "source": [
    "print(\"Number of records in 'accepted' DataFrame:\", accepted.count())\n",
    "print(\"Number of records in 'alumni' DataFrame:\", alumni.count())\n",
    "print(\"Number of records in 'expelled' DataFrame:\", expelled.count())\n",
    "print(\"Number of records in 'unretained' DataFrame:\", unretained.count())\n",
    "print(\"Number of records in 'faculty' DataFrame:\", faculty.count())\n",
    "print(\"Number of records in 'courses' DataFrame:\", courses.count())\n",
    "print(\"Number of records in 'grades' DataFrame:\", grades.count())"
   ]
  },
  {
   "cell_type": "markdown",
   "metadata": {
    "application/vnd.databricks.v1+cell": {
     "cellMetadata": {
      "byteLimit": 2048000,
      "rowLimit": 10000
     },
     "inputWidgets": {},
     "nuid": "eef8f243-a442-466d-8856-632e5ad263ca",
     "showTitle": false,
     "title": ""
    }
   },
   "source": [
    "##Part C: Student Count by Status\n",
    "In this part, we will count the number of students in each of the following groups: students who have been\n",
    "accepted, students who actually enrolled in courses, current students, all former students, alumni, unretained\n",
    "students, and students who were expelled.\n"
   ]
  },
  {
   "cell_type": "markdown",
   "metadata": {
    "application/vnd.databricks.v1+cell": {
     "cellMetadata": {
      "byteLimit": 2048000,
      "rowLimit": 10000
     },
     "inputWidgets": {},
     "nuid": "1ffac328-fcbf-4280-939f-5831c8a8cd42",
     "showTitle": false,
     "title": ""
    }
   },
   "source": [
    "We will now create a three new DataFrames to store student info for students in various categories. We will\n",
    "then generate the desired counts."
   ]
  },
  {
   "cell_type": "code",
   "execution_count": 0,
   "metadata": {
    "application/vnd.databricks.v1+cell": {
     "cellMetadata": {
      "byteLimit": 2048000,
      "rowLimit": 10000
     },
     "inputWidgets": {},
     "nuid": "12370a77-9f93-410e-8669-5b7122b2796e",
     "showTitle": false,
     "title": ""
    }
   },
   "outputs": [
    {
     "output_type": "stream",
     "name": "stdout",
     "output_type": "stream",
     "text": [
      "Number of accepted students: 12207\nNumber of enrolled students: 285137\nNumber of current students: 41576\nNumber of former students: 243561\nNumber of unretained students: 2289\nNumber of expelled students: 403\nNumber of alumni: 4920\n"
     ]
    }
   ],
   "source": [
    "enrolled = accepted.join(grades, accepted.sid == grades.sid, \"inner\")\n",
    "\n",
    "current = enrolled.join(alumni, [\"sid\"], \"leftanti\") \\\n",
    "                 .join(unretained, [\"sid\"], \"leftanti\") \\\n",
    "                 .join(expelled, [\"sid\"], \"leftanti\")\n",
    "\n",
    "former = enrolled.join(current, [\"sid\"], \"leftanti\")\n",
    "\n",
    "print(\"Number of accepted students:\", accepted.count())\n",
    "print(\"Number of enrolled students:\", enrolled.count())\n",
    "print(\"Number of current students:\", current.count())\n",
    "print(\"Number of former students:\", former.count())\n",
    "print(\"Number of unretained students:\", unretained.count())\n",
    "print(\"Number of expelled students:\", expelled.count())\n",
    "print(\"Number of alumni:\", alumni.count())"
   ]
  },
  {
   "cell_type": "markdown",
   "metadata": {
    "application/vnd.databricks.v1+cell": {
     "cellMetadata": {
      "byteLimit": 2048000,
      "rowLimit": 10000
     },
     "inputWidgets": {},
     "nuid": "e3725df0-b5d1-4370-8a91-ed4ad4329b35",
     "showTitle": false,
     "title": ""
    }
   },
   "source": [
    "##Part D: Distribution of Students by Major\n",
    "In this part, we will determine of the number of students currently in each major, as well as the proportion of\n",
    "the overall number of students in each major."
   ]
  },
  {
   "cell_type": "code",
   "execution_count": 0,
   "metadata": {
    "application/vnd.databricks.v1+cell": {
     "cellMetadata": {
      "byteLimit": 2048000,
      "rowLimit": 10000
     },
     "inputWidgets": {},
     "nuid": "a69afbe6-c913-4f1a-a6e7-beb6d37441c6",
     "showTitle": false,
     "title": ""
    }
   },
   "outputs": [
    {
     "output_type": "stream",
     "name": "stdout",
     "output_type": "stream",
     "text": [
      "+-----+----------+-------------------+\n|major|n_students|               prop|\n+-----+----------+-------------------+\n|  BIO|     12143| 0.2920675389647874|\n|  CSC|     10377|0.24959111025591688|\n|  CHM|      8162|0.19631518183567442|\n|  MTH|      6583| 0.1583365403117183|\n|  PHY|      4311|0.10368962863190302|\n+-----+----------+-------------------+\n\n"
     ]
    }
   ],
   "source": [
    "total_current_students = current.count()\n",
    "\n",
    "result = (\n",
    "    current\n",
    "    .groupBy(\"major\")\n",
    "    .agg(\n",
    "        count(\"*\").alias(\"n_students\"),\n",
    "        (count(\"*\") / total_current_students).alias(\"prop\")\n",
    "    )\n",
    "    .orderBy(col(\"prop\").desc())\n",
    ")\n",
    "\n",
    "result.show()"
   ]
  },
  {
   "cell_type": "markdown",
   "metadata": {
    "application/vnd.databricks.v1+cell": {
     "cellMetadata": {
      "byteLimit": 2048000,
      "rowLimit": 10000
     },
     "inputWidgets": {},
     "nuid": "06c2f85b-e345-456a-a458-0d6d932d3586",
     "showTitle": false,
     "title": ""
    }
   },
   "source": [
    "##Part E: Course Enrollments by Department\n",
    "In this part, we will determine of the number of students enrolled in courses offered by each department during\n",
    "the Spring 2021 term."
   ]
  },
  {
   "cell_type": "code",
   "execution_count": 0,
   "metadata": {
    "application/vnd.databricks.v1+cell": {
     "cellMetadata": {
      "byteLimit": 2048000,
      "rowLimit": 10000
     },
     "inputWidgets": {},
     "nuid": "6c2a6734-7326-470c-932c-9f7d6a4e2b08",
     "showTitle": false,
     "title": ""
    }
   },
   "outputs": [
    {
     "output_type": "stream",
     "name": "stdout",
     "output_type": "stream",
     "text": [
      "+----+----------+------+\n|dept|n_students|  prop|\n+----+----------+------+\n| GEN|      5142|0.4198|\n| BIO|      1786|0.1458|\n| MTH|      1517|0.1238|\n| CHM|      1512|0.1234|\n| CSC|      1479|0.1207|\n| PHY|       814|0.0664|\n+----+----------+------+\n\n"
     ]
    }
   ],
   "source": [
    "sp21_enr = grades.filter(col(\"term_id\") == \"2021A\").count()\n",
    "\n",
    "result = (\n",
    "    grades.filter(col(\"term_id\") == \"2021A\")\n",
    "    .join(courses, \"course\", \"inner\")\n",
    "    .groupBy(\"dept\")\n",
    "    .agg(\n",
    "        count(\"*\").alias(\"n_students\"),\n",
    "        (count(\"*\") / sp21_enr).alias(\"prop\")\n",
    "    )\n",
    "    .withColumn(\"prop\", round(col(\"prop\"), 4))\n",
    "    .orderBy(col(\"prop\").desc())\n",
    ")\n",
    "\n",
    "result.show()"
   ]
  },
  {
   "cell_type": "markdown",
   "metadata": {
    "application/vnd.databricks.v1+cell": {
     "cellMetadata": {
      "byteLimit": 2048000,
      "rowLimit": 10000
     },
     "inputWidgets": {},
     "nuid": "f72fd157-8f07-4789-a47e-be7a9ed6b3c5",
     "showTitle": false,
     "title": ""
    }
   },
   "source": [
    "##Part F: Graduation Rates by Major\n",
    "In this part, we will determine the graduation rates for each major. First,\n",
    "we will create a DataFrame containing the number of former students in each major. "
   ]
  },
  {
   "cell_type": "code",
   "execution_count": 0,
   "metadata": {
    "application/vnd.databricks.v1+cell": {
     "cellMetadata": {
      "byteLimit": 2048000,
      "rowLimit": 10000
     },
     "inputWidgets": {},
     "nuid": "b19ae69d-7b8e-4be0-908e-1246ec137a6a",
     "showTitle": false,
     "title": ""
    }
   },
   "outputs": [
    {
     "output_type": "stream",
     "name": "stdout",
     "output_type": "stream",
     "text": [
      "+-----+--------+\n|major|n_former|\n+-----+--------+\n|  BIO|   72160|\n|  CHM|   48907|\n|  CSC|   61890|\n|  MTH|   36555|\n|  PHY|   24049|\n+-----+--------+\n\n"
     ]
    }
   ],
   "source": [
    "former_major_count = former.groupBy(\"major\").count().withColumnRenamed(\"count\", \"n_former\")\n",
    "\n",
    "former_by_major = former_major_count.orderBy(\"major\")\n",
    "\n",
    "former_by_major.show()"
   ]
  },
  {
   "cell_type": "markdown",
   "metadata": {
    "application/vnd.databricks.v1+cell": {
     "cellMetadata": {
      "byteLimit": 2048000,
      "rowLimit": 10000
     },
     "inputWidgets": {},
     "nuid": "d9778700-162f-4ad2-a71a-bbf5b3e6031d",
     "showTitle": false,
     "title": ""
    }
   },
   "source": [
    "We will now determine the number of alumni for each major."
   ]
  },
  {
   "cell_type": "code",
   "execution_count": 0,
   "metadata": {
    "application/vnd.databricks.v1+cell": {
     "cellMetadata": {
      "byteLimit": 2048000,
      "rowLimit": 10000
     },
     "inputWidgets": {},
     "nuid": "be91a780-2b35-4edb-9875-f817f1d3775c",
     "showTitle": false,
     "title": ""
    }
   },
   "outputs": [
    {
     "output_type": "stream",
     "name": "stdout",
     "output_type": "stream",
     "text": [
      "+-----+--------+\n|major|n_alumni|\n+-----+--------+\n|  BIO|   62175|\n|  CHM|   42825|\n|  CSC|   52896|\n|  MTH|   31096|\n|  PHY|   20140|\n+-----+--------+\n\n"
     ]
    }
   ],
   "source": [
    "alumni_former = former.join(alumni, on=\"sid\", how=\"inner\")\n",
    "\n",
    "alumni_major_count = alumni_former.groupBy(\"major\").count().withColumnRenamed(\"count\", \"n_alumni\")\n",
    "\n",
    "alumni_by_major = alumni_major_count.orderBy(\"major\")\n",
    "\n",
    "alumni_by_major.show()"
   ]
  },
  {
   "cell_type": "code",
   "execution_count": 0,
   "metadata": {
    "application/vnd.databricks.v1+cell": {
     "cellMetadata": {
      "byteLimit": 2048000,
      "rowLimit": 10000
     },
     "inputWidgets": {},
     "nuid": "5765bfee-436e-4585-b17f-1e5712619af1",
     "showTitle": false,
     "title": ""
    }
   },
   "outputs": [
    {
     "output_type": "stream",
     "name": "stdout",
     "output_type": "stream",
     "text": [
      "+-----+--------+--------+---------+\n|major|n_alumni|n_former|grad_rate|\n+-----+--------+--------+---------+\n|  BIO|   62175|   72160|   0.8616|\n|  CHM|   42825|   48907|   0.8756|\n|  CSC|   52896|   61890|   0.8547|\n|  MTH|   31096|   36555|   0.8507|\n|  PHY|   20140|   24049|   0.8375|\n+-----+--------+--------+---------+\n\n"
     ]
    }
   ],
   "source": [
    "combined_major_stats = former_by_major.join(alumni_by_major, on=\"major\", how=\"full_outer\")\n",
    "\n",
    "combined_major_stats = combined_major_stats.fillna(0)\n",
    "\n",
    "combined_major_stats = combined_major_stats.withColumn(\n",
    "    \"grad_rate\",\n",
    "    round(col(\"n_alumni\") / col(\"n_former\"), 4)\n",
    ")\n",
    "\n",
    "combined_major_stats = combined_major_stats.select(\"major\", \"n_alumni\", \"n_former\", \"grad_rate\").orderBy(\"major\")\n",
    "\n",
    "\n",
    "combined_major_stats.show()"
   ]
  },
  {
   "cell_type": "markdown",
   "metadata": {
    "application/vnd.databricks.v1+cell": {
     "cellMetadata": {
      "byteLimit": 2048000,
      "rowLimit": 10000
     },
     "inputWidgets": {},
     "nuid": "5b2785b5-2917-41e5-8991-c9d1bcb7c8a9",
     "showTitle": false,
     "title": ""
    }
   },
   "source": [
    "##Part G: Number of Terms Required for Graduation\n",
    "In this part, we will find a frequency distribution for the number of terms that alumni required for graduation,"
   ]
  },
  {
   "cell_type": "code",
   "execution_count": 0,
   "metadata": {
    "application/vnd.databricks.v1+cell": {
     "cellMetadata": {
      "byteLimit": 2048000,
      "rowLimit": 10000
     },
     "inputWidgets": {},
     "nuid": "6fa7bf6b-b980-4ebb-a7bd-e3f1b0b644cf",
     "showTitle": false,
     "title": ""
    }
   },
   "outputs": [
    {
     "output_type": "stream",
     "name": "stdout",
     "output_type": "stream",
     "text": [
      "+-------+--------+\n|n_terms|n_alumni|\n+-------+--------+\n|     38|     332|\n|     39|     667|\n|     40|     818|\n|     41|     837|\n|     42|     686|\n|     43|     450|\n|     44|     263|\n|     45|     166|\n|     46|     140|\n|     47|      87|\n|     48|      83|\n|     49|      55|\n|     50|      49|\n|     51|      38|\n|     52|      29|\n|     53|      27|\n|     54|      27|\n|     55|      24|\n|     56|      18|\n|     57|      16|\n+-------+--------+\nonly showing top 20 rows\n\n"
     ]
    }
   ],
   "source": [
    "(\n",
    "    grades\n",
    "    .join(alumni, on=\"sid\", how=\"inner\")\n",
    "    .groupBy(\"sid\")\n",
    "    .agg(count(\"term_id\").alias(\"n_terms\"))\n",
    "    .groupBy(\"n_terms\")\n",
    "    .agg(count(\"*\").alias(\"n_alumni\"))\n",
    "    .orderBy(\"n_terms\")\n",
    "    .show()\n",
    ")"
   ]
  },
  {
   "cell_type": "markdown",
   "metadata": {
    "application/vnd.databricks.v1+cell": {
     "cellMetadata": {
      "byteLimit": 2048000,
      "rowLimit": 10000
     },
     "inputWidgets": {},
     "nuid": "195b8828-1e40-42bc-ae0b-44657a37c2cb",
     "showTitle": false,
     "title": ""
    }
   },
   "source": [
    "##Part H: Current Student GPA\n",
    "In this section, we will calculate the GPA of each current student at SU and will analyze the results. We will start by converting the letter grades into number grades."
   ]
  },
  {
   "cell_type": "code",
   "execution_count": 0,
   "metadata": {
    "application/vnd.databricks.v1+cell": {
     "cellMetadata": {
      "byteLimit": 2048000,
      "rowLimit": 10000
     },
     "inputWidgets": {},
     "nuid": "4d2c879a-18ad-469e-bf26-7819495ff758",
     "showTitle": false,
     "title": ""
    }
   },
   "outputs": [],
   "source": [
    "def convert_grade(grade):\n",
    "    grade_mapping = {'A': 4, 'B': 3, 'C': 2, 'D': 1, 'F': 0}\n",
    "    return grade_mapping[grade]"
   ]
  },
  {
   "cell_type": "markdown",
   "metadata": {
    "application/vnd.databricks.v1+cell": {
     "cellMetadata": {
      "byteLimit": 2048000,
      "rowLimit": 10000
     },
     "inputWidgets": {},
     "nuid": "79f8460e-aa80-4ad3-bee1-2734d4311c9f",
     "showTitle": false,
     "title": ""
    }
   },
   "source": [
    "We will now calculate the GPA of each student currently enrolled at SU."
   ]
  },
  {
   "cell_type": "code",
   "execution_count": 0,
   "metadata": {
    "application/vnd.databricks.v1+cell": {
     "cellMetadata": {
      "byteLimit": 2048000,
      "rowLimit": 10000
     },
     "inputWidgets": {},
     "nuid": "64dde531-e9b2-4c10-a6c0-f59eb969f86f",
     "showTitle": false,
     "title": ""
    }
   },
   "outputs": [
    {
     "output_type": "stream",
     "name": "stdout",
     "output_type": "stream",
     "text": [
      "+------+---+-----------+----------+---------+-----+-------+------+----+----+-----+\n|   sid|gpa|acc_term_id|first_name|last_name|major|term_id|course| sid| fid|grade|\n+------+---+-----------+----------+---------+-----+-------+------+----+----+-----+\n|100523|4.0|       null|      null|     null| null|   null|  null|null|null| null|\n|101011|4.0|       null|      null|     null| null|   null|  null|null|null| null|\n|100058|4.0|       null|      null|     null| null|   null|  null|null|null| null|\n|100951|4.0|       null|      null|     null| null|   null|  null|null|null| null|\n|100255|4.0|       null|      null|     null| null|   null|  null|null|null| null|\n|100202|4.0|       null|      null|     null| null|   null|  null|null|null| null|\n|100630|4.0|       null|      null|     null| null|   null|  null|null|null| null|\n|100373|4.0|       null|      null|     null| null|   null|  null|null|null| null|\n|100640|4.0|       null|      null|     null| null|   null|  null|null|null| null|\n|100457|4.0|       null|      null|     null| null|   null|  null|null|null| null|\n+------+---+-----------+----------+---------+-----+-------+------+----+----+-----+\nonly showing top 10 rows\n\n"
     ]
    }
   ],
   "source": [
    "current_gpa = (\n",
    "    grades.join(courses.select(\"course\", \"credits\"), grades.course == courses.course)\n",
    "    .withColumn(\"num_grade\", convert_grade_udf(col(\"grade\")))\n",
    "    .withColumn(\"gp\", col(\"num_grade\") * col(\"credits\"))\n",
    "    .groupBy(\"sid\")\n",
    "    .agg(\n",
    "        round((sum(col(\"gp\")) / sum(col(\"credits\"))), 2).alias(\"gpa\")\n",
    "    )\n",
    "    .join(current, on='sid', how='outer')\n",
    "    .sort(\"gpa\", ascending = False)\n",
    ")\n",
    "\n",
    "current_gpa.show(10)"
   ]
  },
  {
   "cell_type": "markdown",
   "metadata": {
    "application/vnd.databricks.v1+cell": {
     "cellMetadata": {
      "byteLimit": 2048000,
      "rowLimit": 10000
     },
     "inputWidgets": {},
     "nuid": "69263259-414d-4c1c-94fc-cbb1ee491a6f",
     "showTitle": false,
     "title": ""
    }
   },
   "source": [
    "We will now determine the number of current students with perfect 4.0 GPAs."
   ]
  },
  {
   "cell_type": "code",
   "execution_count": 0,
   "metadata": {
    "application/vnd.databricks.v1+cell": {
     "cellMetadata": {
      "byteLimit": 2048000,
      "rowLimit": 10000
     },
     "inputWidgets": {},
     "nuid": "db103cb5-9c93-4929-8361-bb91ce179b7e",
     "showTitle": false,
     "title": ""
    }
   },
   "outputs": [
    {
     "output_type": "stream",
     "name": "stdout",
     "output_type": "stream",
     "text": [
      "Number of current students with a perfect 4.0 GPA: 1766\n"
     ]
    }
   ],
   "source": [
    "perfect_gpa_count = current_gpa.filter(col(\"gpa\") == 4.0).count()\n",
    "\n",
    "print(\"Number of current students with a perfect 4.0 GPA:\", perfect_gpa_count)"
   ]
  },
  {
   "cell_type": "markdown",
   "metadata": {
    "application/vnd.databricks.v1+cell": {
     "cellMetadata": {
      "byteLimit": 2048000,
      "rowLimit": 10000
     },
     "inputWidgets": {},
     "nuid": "4191a9ac-495e-4a9f-8774-877c61ca7d09",
     "showTitle": false,
     "title": ""
    }
   },
   "source": [
    "Next, we will create a histogram displaying the distribution of GPAs for current students."
   ]
  },
  {
   "cell_type": "code",
   "execution_count": 0,
   "metadata": {
    "application/vnd.databricks.v1+cell": {
     "cellMetadata": {
      "byteLimit": 2048000,
      "rowLimit": 10000
     },
     "inputWidgets": {},
     "nuid": "355a55e0-c4a3-4cf4-bbe4-af1f49861bdc",
     "showTitle": false,
     "title": ""
    }
   },
   "outputs": [
    {
     "output_type": "display_data",
     "data": {
      "image/png": "[encoded data removed]"
     },
     "metadata": {
      "application/vnd.databricks.v1+output": {
       "addedWidgets": {},
       "arguments": {},
       "data": "data:image/png;base64,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\n",
       "datasetInfos": [],
       "metadata": {},
       "removedWidgets": [],
       "type": "image"
      }
     },
     "output_type": "display_data"
    }
   ],
   "source": [
    "current_gpa_pd = current_gpa.toPandas()\n",
    "\n",
    "bins = [i * 0.25 for i in range(17)]\n",
    "color = 'skyblue'\n",
    "\n",
    "plt.hist(current_gpa_pd['gpa'], bins=bins, color=color, edgecolor='black')\n",
    "\n",
    "plt.title('GPA Distribution for Current Students')\n",
    "plt.xlabel('GPA')\n",
    "plt.ylabel('Count')\n",
    "\n",
    "plt.show()"
   ]
  },
  {
   "cell_type": "markdown",
   "metadata": {
    "application/vnd.databricks.v1+cell": {
     "cellMetadata": {
      "byteLimit": 2048000,
      "rowLimit": 10000
     },
     "inputWidgets": {},
     "nuid": "37911216-9e29-46e2-849c-40ae74c34930",
     "showTitle": false,
     "title": ""
    }
   },
   "source": [
    "##Part I: Grade Distribution by Instructor\n",
    "In this part, we will determine the proportion of A, B, C, D, and F grades given out by each faculty member at SU. We will start by determining the distribution of the grades awarded by each faculty member."
   ]
  },
  {
   "cell_type": "code",
   "execution_count": 0,
   "metadata": {
    "application/vnd.databricks.v1+cell": {
     "cellMetadata": {
      "byteLimit": 2048000,
      "rowLimit": 10000
     },
     "inputWidgets": {},
     "nuid": "9f32524f-5017-4904-9caa-55eac8962a8b",
     "showTitle": false,
     "title": ""
    }
   },
   "outputs": [
    {
     "output_type": "stream",
     "name": "stdout",
     "output_type": "stream",
     "text": [
      "+----+----------+---------+----+----+-----+-----+-----+-----+-----+\n| fid|first_name|last_name|dept|   N|propA|propB|propC|propD|propF|\n+----+----------+---------+----+----+-----+-----+-----+-----+-----+\n|1088| Stephanie| Williams| MTH|1666| 0.17| 0.32| 0.36| 0.13| 0.01|\n|1238|    Willie|    Black| BIO| 682| 0.48| 0.33| 0.15| 0.04| 0.01|\n|1829|     Bobby|   Wilson| GEN| 640| 0.13| 0.26| 0.37|  0.2| 0.04|\n|2122|  Jennifer|   Porter| GEN| 825| 0.12| 0.29| 0.33| 0.21| 0.05|\n|1591|    Amanda| Mitchell| CHM| 395| 0.09| 0.29| 0.35| 0.18| 0.08|\n+----+----------+---------+----+----+-----+-----+-----+-----+-----+\nonly showing top 5 rows\n\n"
     ]
    }
   ],
   "source": [
    "grouped_grades = grades.groupBy(\"fid\")\n",
    "\n",
    "faculty_grade_dist = grouped_grades.agg(\n",
    "    count(when(col(\"grade\") == \"A\", True)).alias(\"countA\"),\n",
    "    count(when(col(\"grade\") == \"B\", True)).alias(\"countB\"),\n",
    "    count(when(col(\"grade\") == \"C\", True)).alias(\"countC\"),\n",
    "    count(when(col(\"grade\") == \"D\", True)).alias(\"countD\"),\n",
    "    count(when(col(\"grade\") == \"F\", True)).alias(\"countF\"),\n",
    "    count(\"*\").alias(\"N\")\n",
    ")\n",
    "\n",
    "faculty_grade_dist = faculty_grade_dist.join(faculty, on=\"fid\", how=\"inner\")\n",
    "\n",
    "prop_columns = [\"propA\", \"propB\", \"propC\", \"propD\", \"propF\"]\n",
    "for col_name in prop_columns:\n",
    "    faculty_grade_dist = faculty_grade_dist.withColumn(\n",
    "        col_name,\n",
    "        round(col(f\"count{col_name[-1]}\") / col(\"N\"), 2)\n",
    "    )\n",
    "\n",
    "faculty_grade_dist = faculty_grade_dist.select(\"fid\", \"first_name\", \"last_name\", \"dept\", \"N\", *prop_columns)\n",
    "\n",
    "faculty_grade_dist.show(5)"
   ]
  },
  {
   "cell_type": "markdown",
   "metadata": {
    "application/vnd.databricks.v1+cell": {
     "cellMetadata": {
      "byteLimit": 2048000,
      "rowLimit": 10000
     },
     "inputWidgets": {},
     "nuid": "fa2d69ff-3120-4f1e-856a-2d85f890e013",
     "showTitle": false,
     "title": ""
    }
   },
   "source": [
    "We will now identify the 10 faculty members who assign the fewest A grades. "
   ]
  },
  {
   "cell_type": "code",
   "execution_count": 0,
   "metadata": {
    "application/vnd.databricks.v1+cell": {
     "cellMetadata": {
      "byteLimit": 2048000,
      "rowLimit": 10000
     },
     "inputWidgets": {},
     "nuid": "13abc7a6-bca0-434f-a874-4913ccddaf40",
     "showTitle": false,
     "title": ""
    }
   },
   "outputs": [
    {
     "output_type": "stream",
     "name": "stdout",
     "output_type": "stream",
     "text": [
      "+----+----------+---------+----+---+-----+-----+-----+-----+-----+\n| fid|first_name|last_name|dept|  N|propA|propB|propC|propD|propF|\n+----+----------+---------+----+---+-----+-----+-----+-----+-----+\n|1628|   Rebecca|  Stewart| GEN|395| 0.03|  0.2| 0.37| 0.28| 0.12|\n|1481|   Abigail|   Brooks| BIO|311| 0.05| 0.23| 0.37| 0.28| 0.08|\n|3187|    Joshua|  Griffin| GEN|154| 0.05| 0.24| 0.38| 0.21| 0.12|\n|1039|      Joan|      Lee| BIO|147| 0.07| 0.24| 0.31| 0.33| 0.05|\n|1264|     Carol|   Martin| CSC|302| 0.07| 0.22| 0.34| 0.25| 0.13|\n|1479|     Karen|  Simmons| GEN|310| 0.08| 0.31|  0.3| 0.21|  0.1|\n|1591|    Amanda| Mitchell| CHM|395| 0.09| 0.29| 0.35| 0.18| 0.08|\n|1212|   Michael| Martinez| MTH|775| 0.09| 0.23| 0.31| 0.27| 0.11|\n|1462|     Ralph|    Perez| BIO|195| 0.09| 0.21| 0.39| 0.23| 0.09|\n|2925|   Cynthia|    Lewis| GEN|302| 0.09| 0.22| 0.35| 0.25| 0.09|\n+----+----------+---------+----+---+-----+-----+-----+-----+-----+\nonly showing top 10 rows\n\n"
     ]
    }
   ],
   "source": [
    "filtered_faculty_grade_dist = faculty_grade_dist.filter(col('N') >= 100)\n",
    "\n",
    "sorted_filtered_faculty_grade_dist = filtered_faculty_grade_dist.orderBy('propA')\n",
    "\n",
    "sorted_filtered_faculty_grade_dist.show(10)"
   ]
  },
  {
   "cell_type": "markdown",
   "metadata": {
    "application/vnd.databricks.v1+cell": {
     "cellMetadata": {
      "byteLimit": 2048000,
      "rowLimit": 10000
     },
     "inputWidgets": {},
     "nuid": "755625d9-c67c-41ba-9aeb-9d2f27e055b6",
     "showTitle": false,
     "title": ""
    }
   },
   "source": [
    "We will now identify the 10 faculty members who award A’s most frequently."
   ]
  },
  {
   "cell_type": "code",
   "execution_count": 0,
   "metadata": {
    "application/vnd.databricks.v1+cell": {
     "cellMetadata": {
      "byteLimit": 2048000,
      "rowLimit": 10000
     },
     "inputWidgets": {},
     "nuid": "2fc3627a-4d26-422b-b6ef-5f0a0819e78f",
     "showTitle": false,
     "title": ""
    }
   },
   "outputs": [
    {
     "output_type": "stream",
     "name": "stdout",
     "output_type": "stream",
     "text": [
      "+----+----------+---------+----+----+-----+-----+-----+-----+-----+\n| fid|first_name|last_name|dept|   N|propA|propB|propC|propD|propF|\n+----+----------+---------+----+----+-----+-----+-----+-----+-----+\n|1092|    Hannah|   Morgan| GEN|1953| 0.59|  0.3| 0.09| 0.01|  0.0|\n|1262|      Sara|   Hunter| GEN|2266| 0.57| 0.28| 0.12| 0.02|  0.0|\n|1094|      Judy|Patterson| GEN|1904| 0.55| 0.32| 0.12| 0.02|  0.0|\n|1548|    Donald|   Gibson| GEN|1478| 0.55| 0.27| 0.14| 0.03| 0.01|\n|1484|     Billy|   Cooper| BIO| 434| 0.54| 0.33| 0.09| 0.04| 0.01|\n|1058|      John|  Simpson| GEN|2729| 0.53| 0.33| 0.12| 0.02|  0.0|\n|1328|     David|   Parker| GEN|1543| 0.53| 0.28| 0.14| 0.04| 0.01|\n|1038|   Theresa|  Stevens| CHM| 233| 0.52| 0.31| 0.15| 0.02| 0.01|\n|1291|     Joyce|   Butler| GEN|2212| 0.51| 0.31| 0.14| 0.03| 0.01|\n|1305|     Betty|  Stewart| GEN|2081| 0.51| 0.31| 0.14| 0.04| 0.01|\n+----+----------+---------+----+----+-----+-----+-----+-----+-----+\nonly showing top 10 rows\n\n"
     ]
    }
   ],
   "source": [
    "filtered_faculty_grade_dist = faculty_grade_dist.filter(col('N') >= 100)\n",
    "\n",
    "sorted_filtered_faculty_grade_dist = filtered_faculty_grade_dist.orderBy(col('propA').desc())\n",
    "\n",
    "sorted_filtered_faculty_grade_dist.show(10)"
   ]
  }
 ],
 "metadata": {
  "application/vnd.databricks.v1+notebook": {
   "dashboards": [],
   "language": "python",
   "notebookMetadata": {
    "pythonIndentUnit": 4
   },
   "notebookName": "Project_02",
   "widgets": {}
  }
 },
 "nbformat": 4,
 "nbformat_minor": 0
}
