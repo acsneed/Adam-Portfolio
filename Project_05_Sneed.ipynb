{
 "cells": [
  {
   "cell_type": "markdown",
   "metadata": {
    "application/vnd.databricks.v1+cell": {
     "cellMetadata": {
      "byteLimit": 2048000,
      "rowLimit": 10000
     },
     "inputWidgets": {},
     "nuid": "0ff853b3-ffbb-4de7-83d9-4ba74251b6d8",
     "showTitle": false,
     "title": ""
    }
   },
   "source": [
    "\n",
    "#DSCI 417 – Project 01\n",
    "##Analysis of NASA Server Logs\n",
    "**Adam Sneed**"
   ]
  },
  {
   "cell_type": "markdown",
   "metadata": {
    "application/vnd.databricks.v1+cell": {
     "cellMetadata": {
      "byteLimit": 2048000,
      "rowLimit": 10000
     },
     "inputWidgets": {},
     "nuid": "ef0120b4-49ef-459e-86eb-ef04727de8b1",
     "showTitle": false,
     "title": ""
    }
   },
   "source": [
    "##Part A: Set up Environment\n",
    "In this part of the project, we will set up our environment."
   ]
  },
  {
   "cell_type": "markdown",
   "metadata": {
    "application/vnd.databricks.v1+cell": {
     "cellMetadata": {
      "byteLimit": 2048000,
      "rowLimit": 10000
     },
     "inputWidgets": {},
     "nuid": "622c6b25-bf46-438e-af1f-abbcac82a335",
     "showTitle": false,
     "title": ""
    }
   },
   "source": [
    "We will begin with some import statements."
   ]
  },
  {
   "cell_type": "code",
   "execution_count": 0,
   "metadata": {
    "application/vnd.databricks.v1+cell": {
     "cellMetadata": {
      "byteLimit": 2048000,
      "rowLimit": 10000
     },
     "inputWidgets": {},
     "nuid": "75ee01db-cdbf-4ee4-a02e-e9bb86429120",
     "showTitle": false,
     "title": ""
    }
   },
   "outputs": [],
   "source": [
    "import matplotlib.pyplot as plt\n",
    "from pyspark.sql import SparkSession"
   ]
  },
  {
   "cell_type": "markdown",
   "metadata": {
    "application/vnd.databricks.v1+cell": {
     "cellMetadata": {
      "byteLimit": 2048000,
      "rowLimit": 10000
     },
     "inputWidgets": {},
     "nuid": "51d56099-e7d3-4014-a65f-aa09be6aacd2",
     "showTitle": false,
     "title": ""
    }
   },
   "source": [
    "We will now create our SparkSession and SparkContext objects."
   ]
  },
  {
   "cell_type": "code",
   "execution_count": 0,
   "metadata": {
    "application/vnd.databricks.v1+cell": {
     "cellMetadata": {
      "byteLimit": 2048000,
      "rowLimit": 10000
     },
     "inputWidgets": {},
     "nuid": "b7552809-24b7-4a86-aa2a-94efd3bfb56d",
     "showTitle": false,
     "title": ""
    }
   },
   "outputs": [],
   "source": [
    "spark = SparkSession.builder.getOrCreate()\n",
    "sc = spark.sparkContext"
   ]
  },
  {
   "cell_type": "markdown",
   "metadata": {
    "application/vnd.databricks.v1+cell": {
     "cellMetadata": {
      "byteLimit": 2048000,
      "rowLimit": 10000
     },
     "inputWidgets": {},
     "nuid": "0703f65c-e048-46ad-b73d-cf24b7ae2700",
     "showTitle": false,
     "title": ""
    }
   },
   "source": [
    "##Part B: Load and Process Data\n",
    "In this section, we will load in and process the NASA data file."
   ]
  },
  {
   "cell_type": "markdown",
   "metadata": {
    "application/vnd.databricks.v1+cell": {
     "cellMetadata": {
      "byteLimit": 2048000,
      "rowLimit": 10000
     },
     "inputWidgets": {},
     "nuid": "125c00c3-709a-4b83-9a33-caf95ce55fb8",
     "showTitle": false,
     "title": ""
    }
   },
   "source": [
    "We begin by loading the data file into an RDD."
   ]
  },
  {
   "cell_type": "code",
   "execution_count": 0,
   "metadata": {
    "application/vnd.databricks.v1+cell": {
     "cellMetadata": {
      "byteLimit": 2048000,
      "rowLimit": 10000
     },
     "inputWidgets": {},
     "nuid": "0717fe9c-c348-417a-875e-56d856547096",
     "showTitle": false,
     "title": ""
    }
   },
   "outputs": [
    {
     "output_type": "stream",
     "name": "stdout",
     "output_type": "stream",
     "text": [
      "1569888\n"
     ]
    }
   ],
   "source": [
    "nasa_raw = sc.textFile('/FileStore/tables/NASA_server_logs_Aug_1995.txt')\n",
    "print(nasa_raw.count())"
   ]
  },
  {
   "cell_type": "markdown",
   "metadata": {
    "application/vnd.databricks.v1+cell": {
     "cellMetadata": {
      "byteLimit": 2048000,
      "rowLimit": 10000
     },
     "inputWidgets": {},
     "nuid": "52f38b10-bd6f-4e87-b1fa-9546af33e6e9",
     "showTitle": false,
     "title": ""
    }
   },
   "source": [
    "We will now print the first 10 elements of this RDD."
   ]
  },
  {
   "cell_type": "code",
   "execution_count": 0,
   "metadata": {
    "application/vnd.databricks.v1+cell": {
     "cellMetadata": {
      "byteLimit": 2048000,
      "rowLimit": 10000
     },
     "inputWidgets": {},
     "nuid": "ebd54332-7bef-4a96-8c47-45f21b8da60b",
     "showTitle": false,
     "title": ""
    }
   },
   "outputs": [
    {
     "output_type": "stream",
     "name": "stdout",
     "output_type": "stream",
     "text": [
      "in24.inetnebr.com [01/Aug/1995:00:00:01] \"GET /shuttle/missions/sts-68/news/sts-68-mcc-05.txt\" 200 1839\nuplherc.upl.com [01/Aug/1995:00:00:07] \"GET /\" 304 0\nuplherc.upl.com [01/Aug/1995:00:00:08] \"GET /images/ksclogo-medium.gif\" 304 0\nuplherc.upl.com [01/Aug/1995:00:00:08] \"GET /images/MOSAIC-logosmall.gif\" 304 0\nuplherc.upl.com [01/Aug/1995:00:00:08] \"GET /images/USA-logosmall.gif\" 304 0\nix-esc-ca2-07.ix.netcom.com [01/Aug/1995:00:00:09] \"GET /images/launch-logo.gif\" 200 1713\nuplherc.upl.com [01/Aug/1995:00:00:10] \"GET /images/WORLD-logosmall.gif\" 304 0\nslppp6.intermind.net [01/Aug/1995:00:00:10] \"GET /history/skylab/skylab.html\" 200 1687\npiweba4y.prodigy.com [01/Aug/1995:00:00:10] \"GET /images/launchmedium.gif\" 200 11853\nslppp6.intermind.net [01/Aug/1995:00:00:11] \"GET /history/skylab/skylab-small.gif\" 200 9202\n"
     ]
    }
   ],
   "source": [
    "for row in nasa_raw.take(10):\n",
    "    print(row)"
   ]
  },
  {
   "cell_type": "markdown",
   "metadata": {
    "application/vnd.databricks.v1+cell": {
     "cellMetadata": {
      "byteLimit": 2048000,
      "rowLimit": 10000
     },
     "inputWidgets": {},
     "nuid": "ebf9526f-17af-4b75-8f48-9ad2e9696dc2",
     "showTitle": false,
     "title": ""
    }
   },
   "source": [
    "We will now process each line of server information by removing the double quotes, tokenizing the strings, replacing the hyphens that appear for the number of bytes with zeros, and coercing the values into appropriate datatypes."
   ]
  },
  {
   "cell_type": "code",
   "execution_count": 0,
   "metadata": {
    "application/vnd.databricks.v1+cell": {
     "cellMetadata": {
      "byteLimit": 2048000,
      "rowLimit": 10000
     },
     "inputWidgets": {},
     "nuid": "c8d46f1f-81bc-4957-aca3-0445eab9dac0",
     "showTitle": false,
     "title": ""
    }
   },
   "outputs": [
    {
     "output_type": "stream",
     "name": "stdout",
     "output_type": "stream",
     "text": [
      "['in24.inetnebr.com', '[01/Aug/1995:00:00:01]', 'GET', '/shuttle/missions/sts-68/news/sts-68-mcc-05.txt', '200', 1839]\n['uplherc.upl.com', '[01/Aug/1995:00:00:07]', 'GET', '/', '304', 0]\n['uplherc.upl.com', '[01/Aug/1995:00:00:08]', 'GET', '/images/ksclogo-medium.gif', '304', 0]\n['uplherc.upl.com', '[01/Aug/1995:00:00:08]', 'GET', '/images/MOSAIC-logosmall.gif', '304', 0]\n['uplherc.upl.com', '[01/Aug/1995:00:00:08]', 'GET', '/images/USA-logosmall.gif', '304', 0]\n['ix-esc-ca2-07.ix.netcom.com', '[01/Aug/1995:00:00:09]', 'GET', '/images/launch-logo.gif', '200', 1713]\n['uplherc.upl.com', '[01/Aug/1995:00:00:10]', 'GET', '/images/WORLD-logosmall.gif', '304', 0]\n['slppp6.intermind.net', '[01/Aug/1995:00:00:10]', 'GET', '/history/skylab/skylab.html', '200', 1687]\n['piweba4y.prodigy.com', '[01/Aug/1995:00:00:10]', 'GET', '/images/launchmedium.gif', '200', 11853]\n['slppp6.intermind.net', '[01/Aug/1995:00:00:11]', 'GET', '/history/skylab/skylab-small.gif', '200', 9202]\n"
     ]
    }
   ],
   "source": [
    "def process_row(row):\n",
    "    row = row.replace('\"', '')\n",
    "    tokens = row.split(' ')\n",
    "\n",
    "    if tokens[-1] == '-':\n",
    "        tokens[-1] = '0'\n",
    "\n",
    "    tokens[-1] = int(tokens[-1])\n",
    "\n",
    "    return tokens\n",
    "\n",
    "nasa = nasa_raw.map(process_row)\n",
    "\n",
    "nasa.persist()\n",
    "\n",
    "for element in nasa.take(10):\n",
    "    print(element)\n"
   ]
  },
  {
   "cell_type": "markdown",
   "metadata": {
    "application/vnd.databricks.v1+cell": {
     "cellMetadata": {
      "byteLimit": 2048000,
      "rowLimit": 10000
     },
     "inputWidgets": {},
     "nuid": "b190a120-4d48-479f-8f04-bdbf7b05d1c9",
     "showTitle": false,
     "title": ""
    }
   },
   "source": [
    "##Part C: Most Requested Resources\n",
    "In this part of the project, we will determine which resources were requested the most frequently."
   ]
  },
  {
   "cell_type": "code",
   "execution_count": 0,
   "metadata": {
    "application/vnd.databricks.v1+cell": {
     "cellMetadata": {
      "byteLimit": 2048000,
      "rowLimit": 10000
     },
     "inputWidgets": {},
     "nuid": "76f53e22-291f-4e4c-9895-35e0ed1f3e37",
     "showTitle": false,
     "title": ""
    }
   },
   "outputs": [
    {
     "output_type": "stream",
     "name": "stdout",
     "output_type": "stream",
     "text": [
      "(97410, '/images/NASA-logosmall.gif')\n(75337, '/images/KSC-logosmall.gif')\n(67448, '/images/MOSAIC-logosmall.gif')\n(67068, '/images/USA-logosmall.gif')\n(66444, '/images/WORLD-logosmall.gif')\n(62778, '/images/ksclogo-medium.gif')\n(43688, '/ksc.html')\n(37826, '/history/apollo/images/apollo-logo1.gif')\n(35138, '/images/launch-logo.gif')\n(30347, '/')\n"
     ]
    }
   ],
   "source": [
    "count_by_resource = (\n",
    "    nasa\n",
    "    .map(lambda tokens: (tokens[3], 1))\n",
    "    .reduceByKey(lambda a, b: a + b)\n",
    "    .map(lambda x: (x[1], x[0]))\n",
    "    .sortByKey(ascending=False)\n",
    "    .map(lambda x: (x[0], x[1]))\n",
    ")\n",
    "\n",
    "for element in count_by_resource.take(10):\n",
    "    print(element)"
   ]
  },
  {
   "cell_type": "markdown",
   "metadata": {
    "application/vnd.databricks.v1+cell": {
     "cellMetadata": {
      "byteLimit": 2048000,
      "rowLimit": 10000
     },
     "inputWidgets": {},
     "nuid": "8b21ba24-87ba-4822-84d4-d76238977d91",
     "showTitle": false,
     "title": ""
    }
   },
   "source": [
    "## Part D: Most Common Request Origins\n",
    "In this part of the project, we will determine which servers are the origins for the greatest number of requests."
   ]
  },
  {
   "cell_type": "code",
   "execution_count": 0,
   "metadata": {
    "application/vnd.databricks.v1+cell": {
     "cellMetadata": {
      "byteLimit": 2048000,
      "rowLimit": 10000
     },
     "inputWidgets": {},
     "nuid": "d9341c2d-9139-4e73-be11-598b71f7528e",
     "showTitle": false,
     "title": ""
    }
   },
   "outputs": [
    {
     "output_type": "stream",
     "name": "stdout",
     "output_type": "stream",
     "text": [
      "(6530, 'edams.ksc.nasa.gov')\n(4846, 'piweba4y.prodigy.com')\n(4791, '163.206.89.4')\n(4607, 'piweba5y.prodigy.com')\n(4416, 'piweba3y.prodigy.com')\n(3889, 'www-d1.proxy.aol.com')\n(3534, 'www-b2.proxy.aol.com')\n(3463, 'www-b3.proxy.aol.com')\n(3423, 'www-c5.proxy.aol.com')\n(3411, 'www-b5.proxy.aol.com')\n"
     ]
    }
   ],
   "source": [
    "count_by_origin = (\n",
    "    nasa\n",
    "    .map(lambda tokens: (tokens[0], 1))\n",
    "    .reduceByKey(lambda a, b: a + b)\n",
    "    .map(lambda x: (x[1], x[0]))\n",
    "    .sortByKey(ascending=False)\n",
    "    .map(lambda x: (x[0], x[1]))\n",
    ")\n",
    "\n",
    "for element in count_by_origin.take(10):\n",
    "    print(element)"
   ]
  },
  {
   "cell_type": "markdown",
   "metadata": {
    "application/vnd.databricks.v1+cell": {
     "cellMetadata": {
      "byteLimit": 2048000,
      "rowLimit": 10000
     },
     "inputWidgets": {},
     "nuid": "6c239dad-8b73-46e5-9f79-c624ebd50e9c",
     "showTitle": false,
     "title": ""
    }
   },
   "source": [
    "##Part E: Request Types\n",
    "In this part of the project, we will analyze records based on their request type. We will start by confirming that there are three different request types."
   ]
  },
  {
   "cell_type": "code",
   "execution_count": 0,
   "metadata": {
    "application/vnd.databricks.v1+cell": {
     "cellMetadata": {
      "byteLimit": 2048000,
      "rowLimit": 10000
     },
     "inputWidgets": {},
     "nuid": "8d22fadf-3d5f-4f54-8f5a-b839cd0f6e65",
     "showTitle": false,
     "title": ""
    }
   },
   "outputs": [
    {
     "output_type": "stream",
     "name": "stdout",
     "output_type": "stream",
     "text": [
      "['GET', 'HEAD', 'POST']\n"
     ]
    }
   ],
   "source": [
    "req_types = nasa.map(lambda tokens: tokens[2]).distinct().collect()\n",
    "\n",
    "print(req_types)"
   ]
  },
  {
   "cell_type": "markdown",
   "metadata": {
    "application/vnd.databricks.v1+cell": {
     "cellMetadata": {
      "byteLimit": 2048000,
      "rowLimit": 10000
     },
     "inputWidgets": {},
     "nuid": "b975b428-45e7-4730-9d2f-224be2118437",
     "showTitle": false,
     "title": ""
    }
   },
   "source": [
    "We will now count the number of requests of each type."
   ]
  },
  {
   "cell_type": "code",
   "execution_count": 0,
   "metadata": {
    "application/vnd.databricks.v1+cell": {
     "cellMetadata": {
      "byteLimit": 2048000,
      "rowLimit": 10000
     },
     "inputWidgets": {},
     "nuid": "d2ae9d9c-2d42-405f-a355-54593ae58d14",
     "showTitle": false,
     "title": ""
    }
   },
   "outputs": [
    {
     "output_type": "stream",
     "name": "stdout",
     "output_type": "stream",
     "text": [
      "Request Type: GET, Count: 1565812\nRequest Type: HEAD, Count: 3965\nRequest Type: POST, Count: 111\n"
     ]
    }
   ],
   "source": [
    "for req_type in req_types:\n",
    "    req_type_count = nasa.filter(lambda tokens: tokens[2] == req_type).count()\n",
    "    \n",
    "    print(f\"Request Type: {req_type}, Count: {req_type_count}\")"
   ]
  },
  {
   "cell_type": "markdown",
   "metadata": {
    "application/vnd.databricks.v1+cell": {
     "cellMetadata": {
      "byteLimit": 2048000,
      "rowLimit": 10000
     },
     "inputWidgets": {},
     "nuid": "4588b114-9f3c-4814-a30c-762bee360544",
     "showTitle": false,
     "title": ""
    }
   },
   "source": [
    "We will now determine the average number of bytes returned to the client for each request type."
   ]
  },
  {
   "cell_type": "code",
   "execution_count": 0,
   "metadata": {
    "application/vnd.databricks.v1+cell": {
     "cellMetadata": {
      "byteLimit": 2048000,
      "rowLimit": 10000
     },
     "inputWidgets": {},
     "nuid": "6e8cff5d-b547-4b22-94cf-a90eb41092dc",
     "showTitle": false,
     "title": ""
    }
   },
   "outputs": [
    {
     "output_type": "stream",
     "name": "stdout",
     "output_type": "stream",
     "text": [
      "('GET', 17134)\n('HEAD', 0)\n('POST', 495)\n"
     ]
    }
   ],
   "source": [
    "avg_bytes = (\n",
    "    nasa\n",
    "    .map(lambda tokens: (tokens[2], (int(tokens[5]), 1)))\n",
    "    .reduceByKey(lambda a, b: (a[0] + b[0], a[1] + b[1]))\n",
    "    .map(lambda x: (x[0], round(x[1][0] / x[1][1])))\n",
    ")\n",
    "\n",
    "for element in avg_bytes.collect():\n",
    "    print(element)"
   ]
  },
  {
   "cell_type": "markdown",
   "metadata": {
    "application/vnd.databricks.v1+cell": {
     "cellMetadata": {
      "byteLimit": 2048000,
      "rowLimit": 10000
     },
     "inputWidgets": {},
     "nuid": "6e964b1e-847b-4a0f-ad5e-640d4fd38496",
     "showTitle": false,
     "title": ""
    }
   },
   "source": [
    "##Part F: Status Codes\n",
    "In this part of the project, we will analyze the status codes returned by the server."
   ]
  },
  {
   "cell_type": "code",
   "execution_count": 0,
   "metadata": {
    "application/vnd.databricks.v1+cell": {
     "cellMetadata": {
      "byteLimit": 2048000,
      "rowLimit": 10000
     },
     "inputWidgets": {},
     "nuid": "d7fe5750-07b2-4bf3-9f27-cf51b7cd6b59",
     "showTitle": false,
     "title": ""
    }
   },
   "outputs": [
    {
     "output_type": "stream",
     "name": "stdout",
     "output_type": "stream",
     "text": [
      "['200', '302', '304', '403', '404', '500', '501']\n"
     ]
    }
   ],
   "source": [
    "status_codes = nasa.map(lambda tokens: tokens[4]).distinct().sortBy(lambda x: x, ascending=True).collect()\n",
    "\n",
    "print(status_codes)"
   ]
  },
  {
   "cell_type": "markdown",
   "metadata": {
    "application/vnd.databricks.v1+cell": {
     "cellMetadata": {
      "byteLimit": 2048000,
      "rowLimit": 10000
     },
     "inputWidgets": {},
     "nuid": "aa840248-9b10-41bd-af37-b27ae3ff7481",
     "showTitle": false,
     "title": ""
    }
   },
   "source": [
    "We will now determine which status codes appear for each request type."
   ]
  },
  {
   "cell_type": "code",
   "execution_count": 0,
   "metadata": {
    "application/vnd.databricks.v1+cell": {
     "cellMetadata": {
      "byteLimit": 2048000,
      "rowLimit": 10000
     },
     "inputWidgets": {},
     "nuid": "cbfd8826-a991-4902-aa9a-db3c78c884d8",
     "showTitle": false,
     "title": ""
    }
   },
   "outputs": [
    {
     "output_type": "stream",
     "name": "stdout",
     "output_type": "stream",
     "text": [
      "Status codes for GET requests: 200, 302, 304, 403, 404, 500\nStatus codes for HEAD requests: 200, 302, 404\nStatus codes for POST requests: 200, 404, 501\n"
     ]
    }
   ],
   "source": [
    "for req_type in req_types:\n",
    "    status_code = (\n",
    "        nasa\n",
    "        .filter(lambda tokens: tokens[2] == req_type)\n",
    "        .map(lambda tokens: tokens[4])\n",
    "        .distinct()\n",
    "        .sortBy(lambda x: x, ascending=True)\n",
    "        .collect()\n",
    "    )\n",
    "\n",
    "    print(f\"Status codes for {req_type} requests: {', '.join(status_codes)}\")\n"
   ]
  },
  {
   "cell_type": "markdown",
   "metadata": {
    "application/vnd.databricks.v1+cell": {
     "cellMetadata": {
      "byteLimit": 2048000,
      "rowLimit": 10000
     },
     "inputWidgets": {},
     "nuid": "1c85c215-c450-4e65-a2fe-7c9077fe7cd7",
     "showTitle": false,
     "title": ""
    }
   },
   "source": [
    "Next, we will count the number of requests resulting in each status code."
   ]
  },
  {
   "cell_type": "code",
   "execution_count": 0,
   "metadata": {
    "application/vnd.databricks.v1+cell": {
     "cellMetadata": {
      "byteLimit": 2048000,
      "rowLimit": 10000
     },
     "inputWidgets": {},
     "nuid": "bb526a1a-ef6c-443c-9036-8b143f330ded",
     "showTitle": false,
     "title": ""
    }
   },
   "outputs": [
    {
     "output_type": "display_data",
     "data": {
      "image/png": "[encoded data removed]"
     },
     "metadata": {
      "application/vnd.databricks.v1+output": {
       "addedWidgets": {},
       "arguments": {},
       "data": "data:image/png;base64,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\n",
       "datasetInfos": [],
       "metadata": {},
       "removedWidgets": [],
       "type": "image"
      }
     },
     "output_type": "display_data"
    }
   ],
   "source": [
    "code_counts = []\n",
    "\n",
    "for status_code in status_codes:\n",
    "    count = nasa.filter(lambda tokens: tokens[4] == status_code).count()\n",
    "    \n",
    "    code_counts.append(count)\n",
    "\n",
    "plt.figure(figsize=[10, 4])\n",
    "bar_color = 'skyblue'\n",
    "border_color = 'black'\n",
    "plt.bar(status_codes, code_counts, color=bar_color, edgecolor=border_color)\n",
    "plt.title('Distribution of Status Codes')\n",
    "plt.xlabel('Status Code')\n",
    "plt.ylabel('Count')\n",
    "plt.yscale('log')\n",
    "plt.show()"
   ]
  },
  {
   "cell_type": "markdown",
   "metadata": {
    "application/vnd.databricks.v1+cell": {
     "cellMetadata": {
      "byteLimit": 2048000,
      "rowLimit": 10000
     },
     "inputWidgets": {},
     "nuid": "f1ad35f9-2f0c-4a0a-8336-a058cff43920",
     "showTitle": false,
     "title": ""
    }
   },
   "source": [
    "##Part G: Request Volume by Day\n",
    "In the final part of this project, we will determine the number of requests received by the server during each day in August 1995."
   ]
  },
  {
   "cell_type": "markdown",
   "metadata": {
    "application/vnd.databricks.v1+cell": {
     "cellMetadata": {
      "byteLimit": 2048000,
      "rowLimit": 10000
     },
     "inputWidgets": {},
     "nuid": "149c65ef-8e11-4e6d-9c11-faeb5c86fefa",
     "showTitle": false,
     "title": ""
    }
   },
   "source": [
    "We will start this section by creating a the list counts_by_day."
   ]
  },
  {
   "cell_type": "code",
   "execution_count": 0,
   "metadata": {
    "application/vnd.databricks.v1+cell": {
     "cellMetadata": {
      "byteLimit": 2048000,
      "rowLimit": 10000
     },
     "inputWidgets": {},
     "nuid": "0e98d5c7-f9a0-4366-8161-72e138317361",
     "showTitle": false,
     "title": ""
    }
   },
   "outputs": [
    {
     "output_type": "stream",
     "name": "stdout",
     "output_type": "stream",
     "text": [
      "[('01', 33996), ('03', 41388), ('04', 59557), ('05', 31893), ('06', 32420)]\n"
     ]
    }
   ],
   "source": [
    "counts_by_day = (\n",
    "    nasa \n",
    "    .map(lambda tokens: (tokens[1][1:3], 1))\n",
    "    .reduceByKey(lambda a, b: a + b)\n",
    "    .sortByKey(ascending=True)\n",
    "    .collect()\n",
    ")\n",
    "\n",
    "print(counts_by_day[:5])"
   ]
  },
  {
   "cell_type": "markdown",
   "metadata": {
    "application/vnd.databricks.v1+cell": {
     "cellMetadata": {
      "byteLimit": 2048000,
      "rowLimit": 10000
     },
     "inputWidgets": {},
     "nuid": "061ad12f-112e-48e1-9446-c1a0a89555b5",
     "showTitle": false,
     "title": ""
    }
   },
   "source": [
    "We will now create a bar chart to display the distribution of requests by the day of the month."
   ]
  },
  {
   "cell_type": "code",
   "execution_count": 0,
   "metadata": {
    "application/vnd.databricks.v1+cell": {
     "cellMetadata": {
      "byteLimit": 2048000,
      "rowLimit": 10000
     },
     "inputWidgets": {},
     "nuid": "031e2286-e74d-409a-bcf1-a167ddc0766f",
     "showTitle": false,
     "title": ""
    }
   },
   "outputs": [
    {
     "output_type": "display_data",
     "data": {
      "image/png": "[encoded data removed]"
     },
     "metadata": {
      "application/vnd.databricks.v1+output": {
       "addedWidgets": {},
       "arguments": {},
       "data": "data:image/png;base64,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\n",
       "datasetInfos": [],
       "metadata": {},
       "removedWidgets": [],
       "type": "image"
      }
     },
     "output_type": "display_data"
    }
   ],
   "source": [
    "day_list, count_list = zip(*counts_by_day)\n",
    "\n",
    "plt.figure(figsize=[10, 4])\n",
    "bar_color = 'magenta'\n",
    "border_color = 'black'\n",
    "plt.bar(day_list, count_list, color=bar_color, edgecolor=border_color)\n",
    "plt.title('Number of Requests by Day (Aug 1995)')\n",
    "plt.xlabel('Day of Month')\n",
    "plt.ylabel('Count')\n",
    "plt.show()"
   ]
  }
 ],
 "metadata": {
  "application/vnd.databricks.v1+notebook": {
   "dashboards": [],
   "language": "python",
   "notebookMetadata": {
    "pythonIndentUnit": 4
   },
   "notebookName": "Project_01",
   "widgets": {}
  }
 },
 "nbformat": 4,
 "nbformat_minor": 0
}
